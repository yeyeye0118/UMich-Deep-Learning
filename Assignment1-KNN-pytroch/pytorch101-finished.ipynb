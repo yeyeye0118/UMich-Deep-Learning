{
  "cells": [
    {
      "cell_type": "markdown",
      "metadata": {
        "id": "QcJK3kXl--c3"
      },
      "source": [
        "# EECS 498-007/598-005 Assignment 1-1: PyTorch 101\n",
        "\n",
        "Before we start, please put your name and UMID in following format\n",
        "\n",
        ": Firstname LASTNAME, #00000000   //   e.g.) Justin JOHNSON, #12345678"
      ]
    },
    {
      "cell_type": "markdown",
      "metadata": {
        "id": "7sA2iBcm_cPb"
      },
      "source": [
        "**Your Answer:**   \n",
        "Hello WORLD, #XXXXXXXX"
      ]
    },
    {
      "cell_type": "markdown",
      "metadata": {
        "id": "Qc83ETI1a3o9"
      },
      "source": [
        "# Introduction\n",
        "\n",
        "Python 3 and [PyTorch](https://pytorch.org/) will be used throughout the semseter, so it is important to be familiar with them. This material in this notebook draws from http://cs231n.github.io/python-numpy-tutorial/ and https://github.com/kuleshov/cs228-material/blob/master/tutorials/python/cs228-python-tutorial.ipynb. This material focuses mainly on PyTorch.\n",
        "\n",
        "This notebook will walk you through many of the important features of PyTorch that you will need to use throughout the semester. In some cells you will see code blocks that look like this:\n",
        "\n",
        "```python\n",
        "##############################################################################\n",
        "# TODO: Write the equation for a line\n",
        "##############################################################################\n",
        "pass\n",
        "##############################################################################\n",
        "#                             END OF YOUR CODE                               #\n",
        "##############################################################################\n",
        "```\n",
        "\n",
        "You should replace the `pass` statement with your own code and leave the blocks intact, like this:\n",
        "\n",
        "```python\n",
        "##############################################################################\n",
        "# TODO: Instructions for what you need to do\n",
        "##############################################################################\n",
        "y = m * x + b\n",
        "##############################################################################\n",
        "#                             END OF YOUR CODE                               #\n",
        "##############################################################################\n",
        "```\n",
        "\n",
        "When completing the notebook, please adhere to the following rules:\n",
        "- Do not write or modify any code outside of code blocks\n",
        "- Do not add or delete any cells from the notebook. You may add new cells to perform scatch work, but delete them before submitting.\n",
        "- Run all cells before submitting. You will only get credit for code that has been run."
      ]
    },
    {
      "cell_type": "markdown",
      "metadata": {
        "id": "hQrEwOpXb9Gh"
      },
      "source": [
        "# Python 3\n"
      ]
    },
    {
      "cell_type": "markdown",
      "metadata": {
        "id": "xAKwfCs_mK3d"
      },
      "source": [
        "If you're unfamiliar with Python 3, here are some of the most common changes from Python 2 to look out for.\n"
      ]
    },
    {
      "cell_type": "markdown",
      "metadata": {
        "id": "zjosrOn8mOMV"
      },
      "source": [
        "### Print is a function"
      ]
    },
    {
      "cell_type": "code",
      "execution_count": 2,
      "metadata": {
        "colab": {
          "base_uri": "https://localhost:8080/"
        },
        "id": "O41SjFuamR7d",
        "outputId": "b6b1565d-5fc1-46b6-fdf4-42baca19ed2d"
      },
      "outputs": [
        {
          "name": "stdout",
          "output_type": "stream",
          "text": [
            "Hello!\n"
          ]
        }
      ],
      "source": [
        "print(\"Hello!\")"
      ]
    },
    {
      "cell_type": "markdown",
      "metadata": {
        "id": "nEh1swLBmQN-"
      },
      "source": [
        "Without parentheses, printing will not work."
      ]
    },
    {
      "cell_type": "markdown",
      "metadata": {
        "id": "OgPaSNS2mVPn"
      },
      "source": [
        "### Floating point division by default"
      ]
    },
    {
      "cell_type": "code",
      "execution_count": 3,
      "metadata": {
        "colab": {
          "base_uri": "https://localhost:8080/"
        },
        "id": "SQKlRZ8KmYDl",
        "outputId": "066f1964-5570-41a7-da43-889ad5b8d6d6"
      },
      "outputs": [
        {
          "data": {
            "text/plain": [
              "2.5"
            ]
          },
          "execution_count": 3,
          "metadata": {},
          "output_type": "execute_result"
        }
      ],
      "source": [
        "5 / 2"
      ]
    },
    {
      "cell_type": "markdown",
      "metadata": {
        "id": "DOmfK0WWmb2V"
      },
      "source": [
        "To do integer division, we use two backslashes:"
      ]
    },
    {
      "cell_type": "code",
      "execution_count": 4,
      "metadata": {
        "colab": {
          "base_uri": "https://localhost:8080/"
        },
        "id": "UUg1MjiPmgNX",
        "outputId": "eb724702-a5bd-43c5-a4c5-65277a4f0b94"
      },
      "outputs": [
        {
          "data": {
            "text/plain": [
              "2"
            ]
          },
          "execution_count": 4,
          "metadata": {},
          "output_type": "execute_result"
        }
      ],
      "source": [
        "5 // 2"
      ]
    },
    {
      "cell_type": "markdown",
      "metadata": {
        "id": "zeH5501nmh7W"
      },
      "source": [
        "### No xrange"
      ]
    },
    {
      "cell_type": "markdown",
      "metadata": {
        "id": "3wNKyyilmkMy"
      },
      "source": [
        "The xrange from Python 2 is now merged into \"range\" for Python 3 and there is no xrange in Python 3. In Python 3, range(3) does not create a list of 3 elements as it would in Python 2, rather just creates a more memory efficient iterator.\n",
        "\n",
        "Hence,  \n",
        "xrange in Python 3: Does not exist  \n",
        "range in Python 3: Has very similar behavior to Python 2's xrange"
      ]
    },
    {
      "cell_type": "code",
      "execution_count": 5,
      "metadata": {
        "colab": {
          "base_uri": "https://localhost:8080/"
        },
        "id": "dP8Dk9PAmnQh",
        "outputId": "4c281925-c1d4-4118-d466-03658164f3b0"
      },
      "outputs": [
        {
          "name": "stdout",
          "output_type": "stream",
          "text": [
            "0\n",
            "1\n",
            "2\n"
          ]
        }
      ],
      "source": [
        "for i in range(3):\n",
        "    print(i)"
      ]
    },
    {
      "cell_type": "code",
      "execution_count": 6,
      "metadata": {
        "colab": {
          "base_uri": "https://localhost:8080/"
        },
        "id": "6SKbKDgLmqd-",
        "outputId": "0fd25ccc-d3c7-48c3-a9af-89c620e97621"
      },
      "outputs": [
        {
          "data": {
            "text/plain": [
              "range(0, 3)"
            ]
          },
          "execution_count": 6,
          "metadata": {},
          "output_type": "execute_result"
        }
      ],
      "source": [
        "range(3)"
      ]
    },
    {
      "cell_type": "code",
      "execution_count": 7,
      "metadata": {
        "colab": {
          "base_uri": "https://localhost:8080/"
        },
        "id": "Wm_VcW3VmsSD",
        "outputId": "4bed7bdb-4d49-4d6e-8461-cfc5e1d31f35"
      },
      "outputs": [
        {
          "name": "stdout",
          "output_type": "stream",
          "text": [
            "[0, 1, 2]\n"
          ]
        }
      ],
      "source": [
        "# If need be, can use the following to get a similar behavior to Python 2's range:\n",
        "print(list(range(3)))"
      ]
    },
    {
      "cell_type": "markdown",
      "metadata": {
        "id": "M6UsRPdHfFMZ"
      },
      "source": []
    },
    {
      "cell_type": "markdown",
      "metadata": {
        "id": "1MEmHrgBsgX4"
      },
      "source": [
        "# PyTorch"
      ]
    },
    {
      "cell_type": "markdown",
      "metadata": {
        "id": "c3e_Nux0siHo"
      },
      "source": [
        "[PyTorch](https://pytorch.org/) is an open source machine learning framework. At its core, PyTorch provides a few key features:\n",
        "\n",
        "- A multidimensional **Tensor** object, similar to [numpy](https://numpy.org/) but with GPU accelleration.\n",
        "- An optimized **autograd** engine for automatically computing derivatives\n",
        "- A clean, modular API for building and deploying **deep learning models**\n",
        "\n",
        "We will use PyTorch for all programming assignments throughout the semester. This notebook will focus on the **Tensor API**, as it is the main part of PyTorch that we will use for the first few assignments.\n",
        "\n",
        "You can find more information about PyTorch by following one of the [oficial tutorials](https://pytorch.org/tutorials/) or by [reading the documentation](https://pytorch.org/docs/1.1.0/)."
      ]
    },
    {
      "cell_type": "markdown",
      "metadata": {
        "id": "zdiO3_y-vKQ9"
      },
      "source": [
        "To use PyTorch, we first need to import the `torch` package.\n",
        "\n",
        "We also check the version; the assignments in this course will use PyTorch verion 1.1.0, since this is the default version in Google Colab."
      ]
    },
    {
      "cell_type": "code",
      "execution_count": 8,
      "metadata": {
        "colab": {
          "base_uri": "https://localhost:8080/"
        },
        "id": "sydFm14itrqq",
        "outputId": "7a9533a7-2536-4e2d-e079-75ed57077194"
      },
      "outputs": [
        {
          "name": "stdout",
          "output_type": "stream",
          "text": [
            "2.6.0+cu124\n"
          ]
        }
      ],
      "source": [
        "import torch\n",
        "print(torch.__version__)"
      ]
    },
    {
      "cell_type": "markdown",
      "metadata": {
        "id": "HrBSx6hYu8ca"
      },
      "source": [
        "## Tensor Basics"
      ]
    },
    {
      "cell_type": "markdown",
      "metadata": {
        "id": "LWagwmXuvIle"
      },
      "source": [
        "### Creating and Accessing tensors"
      ]
    },
    {
      "cell_type": "markdown",
      "metadata": {
        "id": "Bf_SY4RzvAh_"
      },
      "source": [
        "A `torch` **tensor** is a multidimensional grid of values, all of the same type, and is indexed by a tuple of nonnegative integers. The number of dimensions is the **rank** of the tensor; the **shape** of a tensor is a tuple of integers giving the size of the array along each dimension.\n",
        "\n",
        "We can initialize `torch` tensor from nested Python lists. We can access or mutate elements of a PyTorch tensor using square brackets.\n",
        "\n",
        "Accessing an element from a PyTorch tensor returns a PyTorch scalar; we can convert this to a Python scalar using the `.item()` method:"
      ]
    },
    {
      "cell_type": "code",
      "execution_count": 9,
      "metadata": {
        "colab": {
          "base_uri": "https://localhost:8080/"
        },
        "id": "IpwfVUvPu_lF",
        "outputId": "c3f60394-6673-49cd-85be-b1dd7aabac27"
      },
      "outputs": [
        {
          "name": "stdout",
          "output_type": "stream",
          "text": [
            "Here is a:\n",
            "tensor([1, 2, 3])\n",
            "type(a):  <class 'torch.Tensor'>\n",
            "rank of a:  1\n",
            "a.shape:  torch.Size([3])\n",
            "\n",
            "a[0]:  tensor(1)\n",
            "type(a[0]):  <class 'torch.Tensor'>\n",
            "type(a[0].item()):  <class 'int'>\n",
            "\n",
            "a after mutating:\n",
            "tensor([ 1, 10,  3])\n"
          ]
        }
      ],
      "source": [
        "# Create a rank 1 tensor from a Python list\n",
        "a = torch.tensor([1, 2, 3])\n",
        "print('Here is a:')\n",
        "print(a)\n",
        "print('type(a): ', type(a))\n",
        "print('rank of a: ', a.dim())\n",
        "print('a.shape: ', a.shape)\n",
        "\n",
        "# Access elements using square brackets\n",
        "print()\n",
        "print('a[0]: ', a[0])\n",
        "print('type(a[0]): ', type(a[0]))\n",
        "print('type(a[0].item()): ', type(a[0].item()))\n",
        "\n",
        "# Mutate elements using square brackets\n",
        "a[1] = 10\n",
        "print()\n",
        "print('a after mutating:')\n",
        "print(a)"
      ]
    },
    {
      "cell_type": "markdown",
      "metadata": {
        "id": "FZq4zsnLEgXH"
      },
      "source": [
        "The example above shows a one-dimensional tensor; we can similarly create tensors with two or more dimensions:"
      ]
    },
    {
      "cell_type": "code",
      "execution_count": 10,
      "metadata": {
        "colab": {
          "base_uri": "https://localhost:8080/"
        },
        "id": "7TcvHxpTFUcL",
        "outputId": "a9cb0099-9d52-4eca-954b-ef58c0675f00"
      },
      "outputs": [
        {
          "name": "stdout",
          "output_type": "stream",
          "text": [
            "Here is b:\n",
            "tensor([[1, 2, 3],\n",
            "        [4, 5, 5]])\n",
            "rank of b: 2\n",
            "b.shape:  torch.Size([2, 3])\n",
            "\n",
            "b[0, 1]: tensor(2)\n",
            "b[1, 2]: tensor(5)\n",
            "\n",
            "b after mutating:\n",
            "tensor([[  1,   2,   3],\n",
            "        [  4, 100,   5]])\n"
          ]
        }
      ],
      "source": [
        "# Create a two-dimensional tensor\n",
        "b = torch.tensor([[1, 2, 3], [4, 5, 5]])\n",
        "print('Here is b:')\n",
        "print(b)\n",
        "print('rank of b:', b.dim())\n",
        "print('b.shape: ', b.shape)\n",
        "\n",
        "# Access elements from a multidimensional tensor\n",
        "print()\n",
        "print('b[0, 1]:', b[0, 1])\n",
        "print('b[1, 2]:', b[1, 2])\n",
        "\n",
        "# Mutate elements of a multidimensional tensor\n",
        "b[1, 1] = 100\n",
        "print()\n",
        "print('b after mutating:')\n",
        "print(b)"
      ]
    },
    {
      "cell_type": "markdown",
      "metadata": {
        "id": "BBOsvh53GXa8"
      },
      "source": [
        "Now it's your turn:\n",
        "\n",
        "1. Construct a tensor `c` of shape `(3, 2)` filled with zeros by initializing from nested Python lists.\n",
        "2. Then set element `(0, 1)` to 10, and element `(1, 0)` to 100:"
      ]
    },
    {
      "cell_type": "code",
      "execution_count": 11,
      "metadata": {
        "colab": {
          "base_uri": "https://localhost:8080/"
        },
        "id": "2TwkjP0GwIPG",
        "outputId": "406fc44c-4de8-4f1a-c8b8-44d4adefb7c6"
      },
      "outputs": [
        {
          "name": "stdout",
          "output_type": "stream",
          "text": [
            "c is a tensor:  True\n",
            "Correct shape:  True\n",
            "All zeros:  True\n",
            "\n",
            "After mutating:\n",
            "Correct shape:  True\n",
            "c[0, 1] correct:  tensor(True)\n",
            "c[1, 0] correct:  tensor(True)\n",
            "Rest of c is still zero:  True\n"
          ]
        }
      ],
      "source": [
        "c = None\n",
        "################################################################################\n",
        "# TODO: Construct a tensor c filled with all zeros, initializing from nested   #\n",
        "# Python lists.                                                                #\n",
        "################################################################################\n",
        "# Replace \"pass\" statement with your code\n",
        "import numpy as np\n",
        "ab = np.zeros((3,2))\n",
        "c = torch.tensor(ab)\n",
        "\n",
        "################################################################################\n",
        "#                              END OF YOUR CODE                                #\n",
        "################################################################################\n",
        "print('c is a tensor: ', torch.is_tensor(c))\n",
        "print('Correct shape: ', c.shape == (3, 2))\n",
        "print('All zeros: ', (c == 0).all().item() == 1)\n",
        "\n",
        "################################################################################\n",
        "# TODO: Set element (0, 1) of c to 10, and element (1, 0) of c to 100.         #\n",
        "################################################################################\n",
        "# Replace \"pass\" statement with your code\n",
        "c[0,1]=10\n",
        "c[1,0]=100\n",
        "################################################################################\n",
        "#                              END OF YOUR CODE                                #\n",
        "################################################################################\n",
        "print('\\nAfter mutating:')\n",
        "print('Correct shape: ', c.shape == (3, 2))\n",
        "print('c[0, 1] correct: ', c[0, 1] == 10)\n",
        "print('c[1, 0] correct: ', c[1, 0] == 100)\n",
        "print('Rest of c is still zero: ', (c == 0).sum().item() == 4)"
      ]
    },
    {
      "cell_type": "markdown",
      "metadata": {
        "id": "Yz_VDA3IvP33"
      },
      "source": [
        "### Tensor constructors"
      ]
    },
    {
      "cell_type": "markdown",
      "metadata": {
        "id": "BoAlslEdwV-k"
      },
      "source": [
        "PyTorch provides many convenience methods for constructing tensors; this avoids the need to use Python lists. For example:\n",
        "\n",
        "- [`torch.zeros`](https://pytorch.org/docs/1.1.0/torch.html#torch.zeros): Creates a tensor of all zeros\n",
        "- [`torch.ones`](https://pytorch.org/docs/1.1.0/torch.html#torch.ones): Creates a tensor of all ones\n",
        "- [`torch.rand`](https://pytorch.org/docs/1.1.0/torch.html#torch.rand): Creates a tensor with uniform random numbers\n",
        "\n",
        "You can find a full list of tensor creation operations [in the documentation](https://pytorch.org/docs/1.1.0/torch.html#creation-ops).\n",
        "\n",
        "默认创造浮点型张量\n"
      ]
    },
    {
      "cell_type": "code",
      "execution_count": 12,
      "metadata": {
        "colab": {
          "base_uri": "https://localhost:8080/"
        },
        "id": "FL6DXGXzxHBA",
        "outputId": "88ee7243-560d-4ea7-9053-02615edc79ab"
      },
      "outputs": [
        {
          "name": "stdout",
          "output_type": "stream",
          "text": [
            "tensor of zeros:\n",
            "tensor([[0., 0., 0.],\n",
            "        [0., 0., 0.]])\n",
            "\n",
            "tensor of ones:\n",
            "tensor([[1., 1.]])\n",
            "\n",
            "identity matrix:\n",
            "tensor([[1., 0., 0.],\n",
            "        [0., 1., 0.],\n",
            "        [0., 0., 1.]])\n",
            "\n",
            "random tensor:\n",
            "tensor([[0.8121, 0.7839, 0.4284, 0.7342, 0.8660],\n",
            "        [0.8941, 0.7069, 0.5365, 0.4877, 0.1736],\n",
            "        [0.1537, 0.4853, 0.5066, 0.8975, 0.5267],\n",
            "        [0.8004, 0.4195, 0.5749, 0.3514, 0.9050]])\n"
          ]
        }
      ],
      "source": [
        "# Create a tensor of all zeros\n",
        "a = torch.zeros(2, 3)\n",
        "print('tensor of zeros:')\n",
        "print(a)\n",
        "\n",
        "# Create a tensor of all ones\n",
        "b = torch.ones(1, 2)\n",
        "print('\\ntensor of ones:')\n",
        "print(b)\n",
        "\n",
        "# Create a 3x3 identity matrix\n",
        "c = torch.eye(3)\n",
        "print('\\nidentity matrix:')\n",
        "print(c)\n",
        "\n",
        "# Tensor of random values\n",
        "d = torch.rand(4, 5)\n",
        "print('\\nrandom tensor:')\n",
        "print(d)"
      ]
    },
    {
      "cell_type": "markdown",
      "metadata": {
        "id": "y9QuvWYxMsoK"
      },
      "source": [
        "Your turn: Use a tensor creation function to create a tensor of shape (2, 3, 4) filled entirely with 7.\n",
        "\n",
        "Hint: [`torch.full`](https://pytorch.org/docs/1.1.0/torch.html#torch.full)"
      ]
    },
    {
      "cell_type": "code",
      "execution_count": 13,
      "metadata": {
        "colab": {
          "base_uri": "https://localhost:8080/"
        },
        "id": "N_y7Z5I0NIaA",
        "outputId": "c89bd14f-b717-4eab-f490-d008a981cf97"
      },
      "outputs": [
        {
          "name": "stdout",
          "output_type": "stream",
          "text": [
            "e is a tensor: True\n",
            "e has correct shape:  True\n",
            "e is filled with sevens:  True\n"
          ]
        }
      ],
      "source": [
        "e = None\n",
        "################################################################################\n",
        "# TODO: Create a tensor of shape (2, 3, 4) filled entirely with 7, stored in e #\n",
        "################################################################################\n",
        "# Replace \"pass\" statement with your code\n",
        "e=torch.full((2,3,4),7)\n",
        "################################################################################\n",
        "#                              END OF YOUR CODE                                #\n",
        "################################################################################\n",
        "print('e is a tensor:', torch.is_tensor(e))\n",
        "print('e has correct shape: ', e.shape == (2, 3, 4))\n",
        "print('e is filled with sevens: ', (e == 7).all().item() == 1)"
      ]
    },
    {
      "cell_type": "markdown",
      "metadata": {
        "id": "Rz_hiJD33fu1"
      },
      "source": [
        "### Datatypes"
      ]
    },
    {
      "cell_type": "markdown",
      "metadata": {
        "id": "GG1xBunZ3ixx"
      },
      "source": [
        "In the examples above, you may have noticed that some of our tensors contained floating-point values, while others contained integer values.\n",
        "\n",
        "PyTorch provides a [large set of numeric datatypes](https://pytorch.org/docs/1.1.0/tensor_attributes.html#torch-dtype) that you can use to construct tensors. PyTorch tries to guess a datatype when you create a tensor; functions that construct tensors typically have a `dtype` argument that you can use to explicitly specify a datatype.\n",
        "\n",
        "Each tensor has a `dtype` attribute that you can use to check its data type:"
      ]
    },
    {
      "cell_type": "code",
      "execution_count": 14,
      "metadata": {
        "colab": {
          "base_uri": "https://localhost:8080/"
        },
        "id": "vREVDf_n31Qz",
        "outputId": "1c757218-67d5-49a7-e947-5edc089d4e00"
      },
      "outputs": [
        {
          "name": "stdout",
          "output_type": "stream",
          "text": [
            "dtype when torch chooses for us:\n",
            "List of integers: torch.int64\n",
            "List of floats: torch.float32\n",
            "Mixed list: torch.float32\n",
            "\n",
            "dtype when we force a datatype:\n",
            "32-bit float:  torch.float32\n",
            "32-bit integer:  torch.int32\n",
            "64-bit integer:  torch.int64\n",
            "\n",
            "torch.ones with different dtypes\n",
            "default dtype: torch.float32\n",
            "16-bit integer: torch.int16\n",
            "8-bit unsigned integer: torch.uint8\n"
          ]
        }
      ],
      "source": [
        "# Let torch choose the datatype\n",
        "x0 = torch.tensor([1, 2])   # List of integers\n",
        "x1 = torch.tensor([1., 2.]) # List of floats\n",
        "x2 = torch.tensor([1., 2])  # Mixed list\n",
        "print('dtype when torch chooses for us:')\n",
        "print('List of integers:', x0.dtype)\n",
        "print('List of floats:', x1.dtype)\n",
        "print('Mixed list:', x2.dtype)\n",
        "\n",
        "# Force a particular datatype\n",
        "y0 = torch.tensor([1, 2], dtype=torch.float32)  # 32-bit float\n",
        "y1 = torch.tensor([1, 2], dtype=torch.int32)    # 32-bit (signed) integer\n",
        "y2 = torch.tensor([1, 2], dtype=torch.int64)    # 64-bit (signed) integer\n",
        "print('\\ndtype when we force a datatype:')\n",
        "print('32-bit float: ', y0.dtype)\n",
        "print('32-bit integer: ', y1.dtype)\n",
        "print('64-bit integer: ', y2.dtype)\n",
        "\n",
        "# Other creation ops also take a dtype argument\n",
        "z0 = torch.ones(1, 2)  # Let torch choose for us\n",
        "z1 = torch.ones(1, 2, dtype=torch.int16) # 16-bit (signed) integer\n",
        "z2 = torch.ones(1, 2, dtype=torch.uint8) # 8-bit (unsigned) integer\n",
        "print('\\ntorch.ones with different dtypes')\n",
        "print('default dtype:', z0.dtype)\n",
        "print('16-bit integer:', z1.dtype)\n",
        "print('8-bit unsigned integer:', z2.dtype)"
      ]
    },
    {
      "cell_type": "markdown",
      "metadata": {
        "id": "W2reBgQmx_x4"
      },
      "source": [
        "We can **cast** a tensor to another datatype using the [`.to()`](https://pytorch.org/docs/1.1.0/tensors.html#torch.Tensor.to) method; there are also convenience methods like [`.float()`](https://pytorch.org/docs/1.1.0/tensors.html#torch.Tensor.float) and [`.long()`](https://pytorch.org/docs/1.1.0/tensors.html#torch.Tensor.long) that cast to particular datatypes:\n"
      ]
    },
    {
      "cell_type": "code",
      "execution_count": 15,
      "metadata": {
        "colab": {
          "base_uri": "https://localhost:8080/"
        },
        "id": "sAMpwGsdyHAw",
        "outputId": "ae9ffc37-0e17-46ce-90a6-e255763f0805"
      },
      "outputs": [
        {
          "name": "stdout",
          "output_type": "stream",
          "text": [
            "x0: torch.int64\n",
            "x1: torch.float32\n",
            "x2: torch.float64\n",
            "x3: torch.float32\n",
            "x4: torch.float64\n",
            "x0: torch.int64\n"
          ]
        }
      ],
      "source": [
        "x0 = torch.eye(3, dtype=torch.int64)\n",
        "x1 = x0.float()  # Cast to 32-bit float\n",
        "x2 = x0.double() # Cast to 64-bit float\n",
        "x3 = x0.to(torch.float32) # Alternate way to cast to 32-bit float\n",
        "x4 = x0.to(torch.float64) # Alternate way to cast to 64-bit float\n",
        "print('x0:', x0.dtype)\n",
        "print('x1:', x1.dtype)\n",
        "print('x2:', x2.dtype)\n",
        "print('x3:', x3.dtype)\n",
        "print('x4:', x4.dtype)\n",
        "print('x0:', x0.dtype)"
      ]
    },
    {
      "cell_type": "markdown",
      "metadata": {
        "id": "k2O8Atl1wMB7"
      },
      "source": [
        "PyTorch provides several ways to create a tensor with the same datatype as another tensor:\n",
        "\n",
        "- PyTorch provides tensor constructors such as [`torch.new_zeros()`](https://pytorch.org/docs/1.1.0/torch.html#torch.zeros_like) that create new tensors with the same shape and type as a given tensor\n",
        "- Tensor objects have instance methods such as [`.new_zeros()`](https://pytorch.org/docs/1.1.0/tensors.html#torch.Tensor.new_zeros) that create tensors the same type but possibly different shapes\n",
        "- The tensor instance method [`.to()`](https://pytorch.org/docs/1.1.0/tensors.html#torch.Tensor.to) can take a tensor as an argument, in which case it casts to the datatype of the argument."
      ]
    },
    {
      "cell_type": "code",
      "execution_count": 16,
      "metadata": {
        "colab": {
          "base_uri": "https://localhost:8080/"
        },
        "id": "1APDsx54xV6p",
        "outputId": "d9dd6e97-c788-4a67-b318-16ccf928bd41"
      },
      "outputs": [
        {
          "name": "stdout",
          "output_type": "stream",
          "text": [
            "x0 shape is torch.Size([3, 3]), dtype is torch.float64\n",
            "x1 shape is torch.Size([3, 3]), dtype is torch.float64\n",
            "x2 shape is torch.Size([4, 5]), dtype is torch.float64\n",
            "x3 shape is torch.Size([6, 7]), dtype is torch.float64\n"
          ]
        }
      ],
      "source": [
        "x0 = torch.eye(3, dtype=torch.float64)  # Shape (3, 3), dtype torch.float64\n",
        "x1 = torch.zeros_like(x0)               # Shape (3, 3), dtype torch.float64\n",
        "x2 = x0.new_zeros(4, 5)                 # Shape (4, 5), dtype torch.float64\n",
        "x3 = torch.ones(6, 7).to(x0)            # Shape (6, 7), dtype torch.float64)\n",
        "print('x0 shape is %r, dtype is %r' % (x0.shape, x0.dtype))\n",
        "print('x1 shape is %r, dtype is %r' % (x1.shape, x1.dtype))\n",
        "print('x2 shape is %r, dtype is %r' % (x2.shape, x2.dtype))\n",
        "print('x3 shape is %r, dtype is %r' % (x3.shape, x3.dtype))"
      ]
    },
    {
      "cell_type": "markdown",
      "metadata": {
        "id": "OPuGPa0v4h_2"
      },
      "source": [
        "Your turn: Create a 64-bit floating-point tensor of shape (6,) (six-element vector) filled with evenly-spaced values between 10 and 20.\n",
        "\n",
        "Hint: [`torch.linspace`](https://pytorch.org/docs/stable/torch.html#torch.linspace)"
      ]
    },
    {
      "cell_type": "code",
      "execution_count": 17,
      "metadata": {
        "colab": {
          "base_uri": "https://localhost:8080/"
        },
        "id": "Qddo6C5Bgwcr",
        "outputId": "1e3d3b6c-f771-4f53-e603-c1341b59f8e0"
      },
      "outputs": [
        {
          "name": "stdout",
          "output_type": "stream",
          "text": [
            "x is a tensor:  True\n",
            "x has correct shape:  True\n",
            "x has correct dtype:  True\n",
            "x has correct valus:  True\n"
          ]
        }
      ],
      "source": [
        "x = None\n",
        "##############################################################################\n",
        "# TODO: Make x contain a six-element vector of 64-bit floating-bit values,   #\n",
        "# evenly spaced between 10 and 20.                                           #\n",
        "##############################################################################\n",
        "# Replace \"pass\" statement with your code\n",
        "x=torch.zeros((6,))\n",
        "x=x.double()\n",
        "for i in range(6):\n",
        " x[i] = 10+2*i\n",
        "\n",
        "\n",
        "##############################################################################\n",
        "#                             END OF YOUR CODE                               #\n",
        "##############################################################################\n",
        "print('x is a tensor: ', torch.is_tensor(x))\n",
        "print('x has correct shape: ', x.shape == (6,))\n",
        "print('x has correct dtype: ', x.dtype == torch.float64)\n",
        "y = [10, 12, 14, 16, 18, 20]\n",
        "correct_vals = all(a.item() == b for a, b in zip(x, y))\n",
        "print('x has correct valus: ', correct_vals)"
      ]
    },
    {
      "cell_type": "markdown",
      "metadata": {
        "id": "RwJL3HVySvXn"
      },
      "source": [
        "Even though PyTorch provides a large number of numeric datatypes, the most commonly used datatypes are:\n",
        "\n",
        "- `torch.float32`: Standard floating-point type; used to store learnable parameters, network activations, etc. Nearly all arithmetic is done using this type.\n",
        "- `torch.int64`: Typically used to store indices\n",
        "- `torch.uint8`: Typically used to store boolean values, where 0 is false and 1 is true.\n",
        "- `torch.float16`: Used for mixed-precision arithmetic, usually on NVIDIA GPUs with [tensor cores](https://www.nvidia.com/en-us/data-center/tensorcore/). You won't need to worry about this datatype in this course.\n",
        "\n",
        "Note that PyTorch version 1.2.0 introduced a new `torch.bool` datatype for holding boolean values. However for earlier versions (including 1.1.0 which we use in this course) you will see `torch.uint8` used to hold boolean values instead."
      ]
    },
    {
      "cell_type": "markdown",
      "metadata": {
        "id": "rlANfnILvX3S"
      },
      "source": [
        "## Tensor indexing"
      ]
    },
    {
      "cell_type": "markdown",
      "metadata": {
        "id": "KP4dRrHhyLO5"
      },
      "source": [
        "We have already seen how to get and set individual elements of PyTorch tensors. PyTorch also provides many other ways of indexing into tensors. Getting comfortable with these different options makes it easy to modify different parts of tensors with ease."
      ]
    },
    {
      "cell_type": "markdown",
      "metadata": {
        "id": "mo-PoTWNvbba"
      },
      "source": [
        "### Slice indexing"
      ]
    },
    {
      "cell_type": "markdown",
      "metadata": {
        "id": "qUqTYvglyVLc"
      },
      "source": [
        "Similar to Python lists and numpy arrays, PyTorch tensors can be **sliced** using the syntax `start:stop` or `start:stop:step`. The `stop` index is always non-inclusive: it is the first element not to be included in the slice.\n",
        "\n",
        "Start and stop indices can be negative, in which case they count backward from the end of the tensor."
      ]
    },
    {
      "cell_type": "code",
      "execution_count": 18,
      "metadata": {
        "colab": {
          "base_uri": "https://localhost:8080/"
        },
        "id": "yEr5BzdUdCtZ",
        "outputId": "d2ca82d3-7414-4640-ed86-fdf36c12ec5f"
      },
      "outputs": [
        {
          "name": "stdout",
          "output_type": "stream",
          "text": [
            "0 tensor([ 0, 11, 22, 33, 44, 55, 66])\n",
            "1 tensor([22, 33, 44])\n",
            "2 tensor([22, 33, 44, 55, 66])\n",
            "3 tensor([ 0, 11, 22, 33, 44])\n",
            "4 tensor([ 0, 11, 22, 33, 44, 55, 66])\n",
            "5 tensor([11, 33])\n",
            "6 tensor([ 0, 11, 22, 33, 44, 55])\n",
            "7 tensor([33, 55])\n"
          ]
        }
      ],
      "source": [
        "a = torch.tensor([0, 11, 22, 33, 44, 55, 66])\n",
        "print(0, a)        # (0) Original tensor\n",
        "print(1, a[2:5])   # (1) Elements between index 2 and 5\n",
        "print(2, a[2:])    # (2) Elements after index 2\n",
        "print(3, a[:5])    # (3) Elements before index 5\n",
        "print(4, a[:])     # (4) All elements\n",
        "print(5, a[1:5:2]) # (5) Every second element between indices 1 and 5\n",
        "print(6, a[:-1])   # (6) All but the last element\n",
        "print(7, a[-4::2]) # (7) Every second element, starting from the fourth-last"
      ]
    },
    {
      "cell_type": "markdown",
      "metadata": {
        "id": "yrcr9PojgTS1"
      },
      "source": [
        "For multidimensional tensors, you can provide a slice or integer for each dimension of the tensor in order to extract different types of subtensors:"
      ]
    },
    {
      "cell_type": "code",
      "execution_count": 19,
      "metadata": {
        "colab": {
          "base_uri": "https://localhost:8080/"
        },
        "id": "S5fOdjTUyhNf",
        "outputId": "a39ab8b1-d327-489b-ac65-172a5c33bf04"
      },
      "outputs": [
        {
          "name": "stdout",
          "output_type": "stream",
          "text": [
            "Original tensor:\n",
            "tensor([[ 1,  2,  3,  4],\n",
            "        [ 5,  6,  7,  8],\n",
            "        [ 9, 10, 11, 12]])\n",
            "shape:  torch.Size([3, 4])\n",
            "\n",
            "Single row:\n",
            "tensor([5, 6, 7, 8])\n",
            "tensor([5, 6, 7, 8])\n",
            "shape:  torch.Size([4])\n",
            "\n",
            "Single column:\n",
            "tensor([ 2,  6, 10])\n",
            "shape:  torch.Size([3])\n",
            "\n",
            "First two rows, last two columns:\n",
            "tensor([[2, 3, 4],\n",
            "        [6, 7, 8]])\n",
            "shape:  torch.Size([2, 3])\n",
            "\n",
            "Every other row, middle columns:\n",
            "tensor([[ 2,  3],\n",
            "        [10, 11]])\n",
            "shape:  torch.Size([2, 2])\n"
          ]
        }
      ],
      "source": [
        "# Create the following rank 2 tensor with shape (3, 4)\n",
        "# [[ 1  2  3  4]\n",
        "#  [ 5  6  7  8]\n",
        "#  [ 9 10 11 12]]\n",
        "a = torch.tensor([[1,2,3,4], [5,6,7,8], [9,10,11,12]])\n",
        "print('Original tensor:')\n",
        "print(a)\n",
        "print('shape: ', a.shape)\n",
        "\n",
        "# Get row 1, and all columns.\n",
        "print('\\nSingle row:')\n",
        "print(a[1, :])\n",
        "print(a[1])  # Gives the same result; we can omit : for trailing dimensions\n",
        "print('shape: ', a[1].shape)\n",
        "\n",
        "print('\\nSingle column:')\n",
        "print(a[:, 1])\n",
        "print('shape: ', a[:, 1].shape)\n",
        "\n",
        "# Get the first two rows and the last three columns\n",
        "print('\\nFirst two rows, last two columns:')\n",
        "print(a[:2, -3:])\n",
        "print('shape: ', a[:2, -3:].shape)\n",
        "\n",
        "# Get every other row, and columns at index 1 and 2\n",
        "#从第0行开始，每隔一行取一次（步长=2）。\n",
        "#选中行：第0行、第2行（跳过第1行和第3行）\n",
        "#::2 等价于 0:-1:2（从第0行到最后一行，步长2）\n",
        "print('\\nEvery other row, middle columns:')\n",
        "print(a[::2, 1:3])\n",
        "print('shape: ', a[::2, 1:3].shape)"
      ]
    },
    {
      "cell_type": "markdown",
      "metadata": {
        "id": "gOsR8Pdertku"
      },
      "source": [
        "There are two common ways to access a single row or column of a tensor: using an integer will reduce the rank by one, and using a length-one slice will keep the same rank. Note that this is different behavior from MATLAB."
      ]
    },
    {
      "cell_type": "code",
      "execution_count": 20,
      "metadata": {
        "colab": {
          "base_uri": "https://localhost:8080/"
        },
        "id": "P1kHcc5jsF-c",
        "outputId": "42d74c71-7ae6-45ca-c774-168e9f201664"
      },
      "outputs": [
        {
          "name": "stdout",
          "output_type": "stream",
          "text": [
            "Original tensor\n",
            "tensor([[ 1,  2,  3,  4],\n",
            "        [ 5,  6,  7,  8],\n",
            "        [ 9, 10, 11, 12]])\n",
            "\n",
            "Two ways of accessing a single row:\n",
            "tensor([5, 6, 7, 8]) torch.Size([4])\n",
            "tensor([[5, 6, 7, 8]]) torch.Size([1, 4])\n",
            "\n",
            "Two ways of accessing a single column:\n",
            "tensor([ 2,  6, 10]) torch.Size([3])\n",
            "tensor([[ 2],\n",
            "        [ 6],\n",
            "        [10]]) torch.Size([3, 1])\n"
          ]
        }
      ],
      "source": [
        "# Create the following rank 2 tensor with shape (3, 4)\n",
        "a = torch.tensor([[1,2,3,4], [5,6,7,8], [9,10,11,12]])\n",
        "print('Original tensor')\n",
        "print(a)\n",
        "\n",
        "row_r1 = a[1, :]    # Rank 1 view of the second row of a\n",
        "row_r2 = a[1:2, :]  # Rank 2 view of the second row of a\n",
        "print('\\nTwo ways of accessing a single row:')\n",
        "print(row_r1, row_r1.shape)\n",
        "print(row_r2, row_r2.shape)\n",
        "\n",
        "# We can make the same distinction when accessing columns::\n",
        "col_r1 = a[:, 1]\n",
        "col_r2 = a[:, 1:2]\n",
        "print('\\nTwo ways of accessing a single column:')\n",
        "print(col_r1, col_r1.shape)\n",
        "print(col_r2, col_r2.shape)"
      ]
    },
    {
      "cell_type": "markdown",
      "metadata": {
        "id": "Jk625fJfyxV8"
      },
      "source": [
        "Slicing a tensor returns a **view** into the same data, so modifying it will also modify the original tensor. To avoid this, you can use the `clone()` method to make a copy of a tensor."
      ]
    },
    {
      "cell_type": "code",
      "execution_count": 21,
      "metadata": {
        "colab": {
          "base_uri": "https://localhost:8080/"
        },
        "id": "IXbikYPwyxGA",
        "outputId": "4f7e33c6-065b-4980-e75a-89d66280f553"
      },
      "outputs": [
        {
          "name": "stdout",
          "output_type": "stream",
          "text": [
            "Before mutating:\n",
            "tensor([[1, 2, 3, 4],\n",
            "        [5, 6, 7, 8]])\n",
            "tensor([2, 3, 4])\n",
            "tensor([2, 3, 4])\n",
            "\n",
            "After mutating:\n",
            "tensor([[ 1, 20, 30,  4],\n",
            "        [ 5,  6,  7,  8]])\n",
            "tensor([20, 30,  4])\n",
            "tensor([ 2,  3, 40])\n",
            "False\n"
          ]
        },
        {
          "name": "stderr",
          "output_type": "stream",
          "text": [
            "/tmp/ipython-input-21-3860217186.py:18: UserWarning: TypedStorage is deprecated. It will be removed in the future and UntypedStorage will be the only storage class. This should only matter to you if you are using storages directly.  To access UntypedStorage directly, use tensor.untyped_storage() instead of tensor.storage()\n",
            "  print(a.storage().data_ptr() == c.storage().data_ptr())\n"
          ]
        }
      ],
      "source": [
        "# Create a tensor, a slice, and a clone of a slice\n",
        "a = torch.tensor([[1, 2, 3, 4], [5, 6, 7, 8]])\n",
        "b = a[0, 1:]\n",
        "c = a[0, 1:].clone()\n",
        "print('Before mutating:')\n",
        "print(a)\n",
        "print(b)\n",
        "print(c)\n",
        "\n",
        "a[0, 1] = 20  # a[0, 1] and b[0] point to the same element\n",
        "b[1] = 30     # b[1] and a[0, 2] point to the same element\n",
        "c[2] = 40     # c is a clone, so it has its own data\n",
        "print('\\nAfter mutating:')\n",
        "print(a)\n",
        "print(b)\n",
        "print(c)\n",
        "\n",
        "print(a.storage().data_ptr() == c.storage().data_ptr())"
      ]
    },
    {
      "cell_type": "markdown",
      "metadata": {
        "id": "5t5omyKwm9dB"
      },
      "source": [
        "Your turn: practice indexing tensors with slices"
      ]
    },
    {
      "cell_type": "code",
      "execution_count": 3,
      "metadata": {
        "id": "yKq2mswvqMmw"
      },
      "outputs": [],
      "source": [
        "# We will use this helper function to check your results\n",
        "import torch\n",
        "def check(orig, actual, expected):\n",
        "  expected = torch.tensor(expected)\n",
        "  same_elements = (actual == expected).all().item() == 1\n",
        "  same_storage = (orig.storage().data_ptr() == actual.storage().data_ptr())\n",
        "  return same_elements and same_storage"
      ]
    },
    {
      "cell_type": "code",
      "execution_count": 4,
      "metadata": {
        "colab": {
          "base_uri": "https://localhost:8080/"
        },
        "id": "RUnKm3Rjnr4t",
        "outputId": "2daf032a-bc08-4b7a-b993-0116029cdca6"
      },
      "outputs": [
        {
          "name": "stdout",
          "output_type": "stream",
          "text": [
            "b correct: True\n",
            "c correct: True\n",
            "d correct: True\n",
            "e correct: True\n"
          ]
        },
        {
          "name": "stderr",
          "output_type": "stream",
          "text": [
            "/tmp/ipython-input-3-971194092.py:6: UserWarning: TypedStorage is deprecated. It will be removed in the future and UntypedStorage will be the only storage class. This should only matter to you if you are using storages directly.  To access UntypedStorage directly, use tensor.untyped_storage() instead of tensor.storage()\n",
            "  same_storage = (orig.storage().data_ptr() == actual.storage().data_ptr())\n"
          ]
        }
      ],
      "source": [
        "# Create the following rank 2 tensor of shape (3, 5)\n",
        "# [[ 1  2  3  4  5]\n",
        "#  [ 6  7  8  9 10]\n",
        "#  [11 12 13 14 15]]\n",
        "a = torch.tensor([[1, 2, 3, 4, 5], [6, 7, 8, 8, 10], [11, 12, 13, 14, 15]])\n",
        "\n",
        "b, c, d, e = None, None, None, None\n",
        "##############################################################################\n",
        "# TODO: Extract the last row of a, and store it in b; it should have rank 1. #\n",
        "##############################################################################\n",
        "# Replace \"pass\" statement with your code\n",
        "b=a[2,:]\n",
        "##############################################################################\n",
        "#                             END OF YOUR CODE                               #\n",
        "##############################################################################\n",
        "print('b correct:', check(a, b, [11, 12, 13, 14, 15]))\n",
        "\n",
        "##############################################################################\n",
        "# TODO: Extract the third col of a, and store it in c; it should have rank 2 #\n",
        "##############################################################################\n",
        "# Replace \"pass\" statement with your code\n",
        "c=a[:,2:3]\n",
        "##############################################################################\n",
        "#                             END OF YOUR CODE                               #\n",
        "##############################################################################\n",
        "print('c correct:', check(a, c, [[3], [8], [13]]))\n",
        "\n",
        "##############################################################################\n",
        "# TODO: Use slicing to extract the first two rows and first three columns    #\n",
        "# from a; store the result into d.                                           #\n",
        "##############################################################################\n",
        "# Replace \"pass\" statement with your code\n",
        "d=a[0:2,0:3]\n",
        "##############################################################################\n",
        "#                             END OF YOUR CODE                               #\n",
        "##############################################################################\n",
        "print('d correct:', check(a, d, [[1, 2, 3], [6, 7, 8]]))\n",
        "\n",
        "\n",
        "##############################################################################\n",
        "# TODO: Use slicing to extract a subtensor of a consisting of rows 0 and 2   #\n",
        "# and columns 1 and 4.                                                       #\n",
        "##############################################################################\n",
        "# Replace \"pass\" statement with your code\n",
        "e=a[0:3:2,1:5:3]\n",
        "##############################################################################\n",
        "#                             END OF YOUR CODE                               #\n",
        "##############################################################################\n",
        "print('e correct:', check(a, e, [[2, 5], [12, 15]]))"
      ]
    },
    {
      "cell_type": "markdown",
      "metadata": {
        "id": "RNjhLwb0xY2A"
      },
      "source": [
        "So far we have used slicing to **access** subtensors; we can also use slicing to **modify** subtensors by writing assignment expressions where the left-hand side is a slice expression, and the right-hand side is a constant or a tensor of the correct shape:"
      ]
    },
    {
      "cell_type": "code",
      "execution_count": 5,
      "metadata": {
        "colab": {
          "base_uri": "https://localhost:8080/"
        },
        "id": "DFnky42Rx2I5",
        "outputId": "cae2e2dc-f455-4155-b9a6-2c4a52ac56c3"
      },
      "outputs": [
        {
          "name": "stdout",
          "output_type": "stream",
          "text": [
            "tensor([[1, 1, 2, 3],\n",
            "        [1, 1, 4, 5]])\n"
          ]
        }
      ],
      "source": [
        "a = torch.zeros(2, 4, dtype=torch.int64)\n",
        "a[:, :2] = 1\n",
        "a[:, 2:] = torch.tensor([[2, 3], [4, 5]])\n",
        "print(a)"
      ]
    },
    {
      "cell_type": "markdown",
      "metadata": {
        "id": "HPVCQ5HszihV"
      },
      "source": [
        "Your turn: use slicing assignment to modify a tensor:"
      ]
    },
    {
      "cell_type": "code",
      "execution_count": 2,
      "metadata": {
        "colab": {
          "base_uri": "https://localhost:8080/"
        },
        "id": "MYR-jstVvUwE",
        "outputId": "bc9af89b-25d2-4933-f514-1ca35450a2cd"
      },
      "outputs": [
        {
          "name": "stdout",
          "output_type": "stream",
          "text": [
            "correct: True\n"
          ]
        }
      ],
      "source": [
        "import torch\n",
        "x = torch.zeros(4, 6, dtype=torch.int64)\n",
        "##############################################################################\n",
        "# TODO: Use slicing to modify the tensor x so it has the following contents: #\n",
        "#     [[1, 0, 2, 2, 2, 2],                                                   #\n",
        "#      [0, 1, 2, 2, 2, 2],                                                   #\n",
        "#      [3, 4, 3, 4, 5, 5],                                                   #\n",
        "#      [3, 4, 3, 4, 5, 5]]                                                   #\n",
        "# This can be achieved using five slicing assignment operations.             #\n",
        "##############################################################################\n",
        "# Replace \"pass\" statement with your code\n",
        "x[[0,1],[0,1]]=1\n",
        "x[0:2,2:]=2\n",
        "x[2:,0:3:2]=3\n",
        "x[2:,1:4:2]=4\n",
        "x[2:,4:]=5\n",
        "##############################################################################\n",
        "#                             END OF YOUR CODE                               #\n",
        "##############################################################################\n",
        "\n",
        "expected = [\n",
        "    [1, 0, 2, 2, 2, 2],\n",
        "    [0, 1, 2, 2, 2, 2],\n",
        "    [3, 4, 3, 4, 5, 5],\n",
        "    [3, 4, 3, 4, 5, 5],\n",
        "]\n",
        "print('correct:', x.tolist() == expected)"
      ]
    },
    {
      "cell_type": "markdown",
      "metadata": {
        "id": "4y93rPhGveWw"
      },
      "source": [
        "### Integer tensor indexing"
      ]
    },
    {
      "cell_type": "markdown",
      "metadata": {
        "id": "GlTyhjEN0AIE"
      },
      "source": [
        "When you index into torch tensor using slicing, the resulting tensor view will always be a subarray of the original tensor. This is powerful, but can be restrictive.\n",
        "\n",
        "We can also use **index arrays** to index tensors; this lets us construct new tensors with a lot more flexibility than using slices.\n",
        "\n",
        "As an example, we can use index arrays to reorder the rows or columns of a tensor:"
      ]
    },
    {
      "cell_type": "code",
      "execution_count": 4,
      "metadata": {
        "colab": {
          "base_uri": "https://localhost:8080/"
        },
        "id": "IXePPNkjM_SD",
        "outputId": "b368ceea-b865-41b0-ab9f-7a82856ff450"
      },
      "outputs": [
        {
          "name": "stdout",
          "output_type": "stream",
          "text": [
            "Original tensor:\n",
            "tensor([[ 1,  2,  3,  4],\n",
            "        [ 5,  6,  7,  8],\n",
            "        [ 9, 10, 11, 12]])\n",
            "\n",
            "Reordered rows:\n",
            "tensor([1, 2, 3, 4])\n",
            "tensor([[ 1,  2,  3,  4],\n",
            "        [ 1,  2,  3,  4],\n",
            "        [ 9, 10, 11, 12],\n",
            "        [ 5,  6,  7,  8],\n",
            "        [ 5,  6,  7,  8]])\n",
            "\n",
            "Reordered columns:\n",
            "tensor([[ 4,  3,  2,  1],\n",
            "        [ 8,  7,  6,  5],\n",
            "        [12, 11, 10,  9]])\n"
          ]
        }
      ],
      "source": [
        "# Create the following rank 2 tensor with shape (3, 4)\n",
        "# [[ 1  2  3  4]\n",
        "#  [ 5  6  7  8]\n",
        "#  [ 9 10 11 12]]\n",
        "a = torch.tensor([[1, 2, 3, 4], [5, 6, 7, 8], [9, 10, 11, 12]])\n",
        "print('Original tensor:')\n",
        "print(a)\n",
        "\n",
        "# Create a new tensor of shape (5, 4) by reordering rows from a:\n",
        "# - First two rows same as the first row of a\n",
        "# - Third row is the same as the last row of a\n",
        "# - Fourth and fifth rows are the same as the second row from a\n",
        "idx = [0, 0, 2, 1, 1]  # index arrays can be Python lists of integers\n",
        "print('\\nReordered rows:')\n",
        "print(a[0])\n",
        "print(a[idx])\n",
        "\n",
        "# Create a new tensor of shape (3, 4) by reversing the columns from a\n",
        "idx = torch.tensor([3, 2, 1, 0])  # Index arrays can be int64 torch tensors\n",
        "print('\\nReordered columns:')\n",
        "print(a[:, idx])"
      ]
    },
    {
      "cell_type": "markdown",
      "metadata": {
        "id": "CpIBR1bCQji6"
      },
      "source": [
        "More generally, given index arrays `idx0` and `idx1` with `N` elements each, `a[idx0, idx1]` is equivalent to:\n",
        "\n",
        "```\n",
        "torch.tensor([\n",
        "  a[idx0[0], idx1[0]],\n",
        "  a[idx0[1], idx1[1]],\n",
        "  ...,\n",
        "  a[idx0[N - 1], idx1[N - 1]]\n",
        "])\n",
        "```\n",
        "\n",
        "(A similar pattern extends to tensors with more than two dimensions)\n",
        "\n",
        "We can for example use this to get or set the diagonal of a tensor:"
      ]
    },
    {
      "cell_type": "code",
      "execution_count": 5,
      "metadata": {
        "colab": {
          "base_uri": "https://localhost:8080/"
        },
        "id": "ocIR8R5ZSEaP",
        "outputId": "330c66f9-8205-436e-ae14-0d90ae86af77"
      },
      "outputs": [
        {
          "name": "stdout",
          "output_type": "stream",
          "text": [
            "Original tensor:\n",
            "tensor([[1, 2, 3],\n",
            "        [4, 5, 6],\n",
            "        [7, 8, 9]])\n",
            "\n",
            "Get the diagonal:\n",
            "tensor([1, 5, 9])\n",
            "\n",
            "After setting the diagonal:\n",
            "tensor([[11,  2,  3],\n",
            "        [ 4, 22,  6],\n",
            "        [ 7,  8, 33]])\n"
          ]
        }
      ],
      "source": [
        "a = torch.tensor([[1, 2, 3], [4, 5, 6], [7, 8, 9]])\n",
        "print('Original tensor:')\n",
        "print(a)\n",
        "\n",
        "idx = [0, 1, 2]\n",
        "print('\\nGet the diagonal:')\n",
        "print(a[idx, idx])\n",
        "\n",
        "# Modify the diagonal\n",
        "a[idx, idx] = torch.tensor([11, 22, 33])\n",
        "print('\\nAfter setting the diagonal:')\n",
        "print(a)"
      ]
    },
    {
      "cell_type": "markdown",
      "metadata": {
        "id": "O-cr-EqA0vfO"
      },
      "source": [
        "One useful trick with integer array indexing is selecting or mutating one element from each row or column of a matrix:"
      ]
    },
    {
      "cell_type": "code",
      "execution_count": 6,
      "metadata": {
        "colab": {
          "base_uri": "https://localhost:8080/"
        },
        "id": "HWA8E8iI0x17",
        "outputId": "e6016eef-b402-4da0-fd78-e6bb02fa97e1"
      },
      "outputs": [
        {
          "name": "stdout",
          "output_type": "stream",
          "text": [
            "Original tensor:\n",
            "tensor([[ 1,  2,  3],\n",
            "        [ 4,  5,  6],\n",
            "        [ 7,  8,  9],\n",
            "        [10, 11, 12]])\n",
            "\n",
            "Select one element from each row:\n",
            "tensor([ 2,  6,  8, 10])\n",
            "\n",
            "After modifying one element from each row:\n",
            "tensor([[ 1,  0,  3],\n",
            "        [ 4,  5,  0],\n",
            "        [ 7,  0,  9],\n",
            "        [ 0, 11, 12]])\n"
          ]
        }
      ],
      "source": [
        "# Create a new tensor from which we will select elements\n",
        "a = torch.tensor([[1, 2, 3], [4, 5, 6], [7, 8, 9], [10, 11, 12]])\n",
        "print('Original tensor:')\n",
        "print(a)\n",
        "\n",
        "# Take on element from each row of a:\n",
        "# from row 0, take element 1;\n",
        "# from row 1, take element 2;\n",
        "# from row 2, take element 1;\n",
        "# from row 3, take element 0\n",
        "idx0 = torch.arange(a.shape[0])  # Quick way to build [0, 1, 2, 3],a.shape=(4,3)\n",
        "idx1 = torch.tensor([1, 2, 1, 0])\n",
        "print('\\nSelect one element from each row:')\n",
        "print(a[idx0, idx1])\n",
        "\n",
        "# Now set each of those elements to zero\n",
        "a[idx0, idx1] = 0\n",
        "print('\\nAfter modifying one element from each row:')\n",
        "print(a)"
      ]
    },
    {
      "cell_type": "markdown",
      "metadata": {
        "id": "s5_-WUmSVEoR"
      },
      "source": [
        "Your turn: practice with integer array indexing"
      ]
    },
    {
      "cell_type": "code",
      "execution_count": 15,
      "metadata": {
        "colab": {
          "base_uri": "https://localhost:8080/"
        },
        "id": "gFrrotu5VH2w",
        "outputId": "5e0d6df9-e20a-41cb-f0d8-44f5f02759ae"
      },
      "outputs": [
        {
          "name": "stdout",
          "output_type": "stream",
          "text": [
            "Here is a:\n",
            "tensor([[ 1,  2,  3],\n",
            "        [ 4,  5,  6],\n",
            "        [ 7,  8,  9],\n",
            "        [10, 11, 12]])\n",
            "\n",
            "Here is b:\n",
            "tensor([[ 1,  1,  3,  2],\n",
            "        [ 4,  4,  6,  5],\n",
            "        [ 7,  7,  9,  8],\n",
            "        [10, 10, 12, 11]])\n",
            "b correct: True\n",
            "\n",
            "Here is c:\n",
            "tensor([[10, 11, 12],\n",
            "        [ 7,  8,  9],\n",
            "        [ 4,  5,  6],\n",
            "        [ 1,  2,  3]])\n",
            "c correct: True\n",
            "\n",
            "Here is d:\n",
            "tensor([ 4,  2, 12])\n",
            "d correct: True\n"
          ]
        }
      ],
      "source": [
        "# Build a tensor of shape (4, 3):\n",
        "# [[ 1,  2,  3],\n",
        "#  [ 4,  5,  6],\n",
        "#  [ 7,  8,  9],\n",
        "#  [10, 11, 12]]\n",
        "a = torch.tensor([[1, 2, 3], [4, 5, 6], [7, 8, 9], [10, 11, 12]])\n",
        "print('Here is a:')\n",
        "print(a)\n",
        "\n",
        "b, c, d = None, None, None\n",
        "##############################################################################\n",
        "# TODO: Use integer array indexing to create a tensor of shape (4, 4) where: #\n",
        "# - The first two columns are the same as the first column of a              #\n",
        "# - The next column is the same as the third column of a                     #\n",
        "# - The last column is the same as the second column of a                    #\n",
        "# Store the resulting tensor in b.                                           #\n",
        "##############################################################################\n",
        "# Replace \"pass\" statement with your code\n",
        "idxb=[0,0,2,1]\n",
        "b=a.T[idxb]\n",
        "b=b.T\n",
        "##############################################################################\n",
        "#                             END OF YOUR CODE                               #\n",
        "##############################################################################\n",
        "print('\\nHere is b:')\n",
        "print(b)\n",
        "expected = [[1, 1, 3, 2], [4, 4, 6, 5], [7, 7, 9, 8], [10, 10, 12, 11]]\n",
        "print('b correct:', b.tolist() == expected)\n",
        "\n",
        "##############################################################################\n",
        "# TODO: Use integer array indexing to create a new tensor which is the same  #\n",
        "# as a, but has its rows reversed. Store the result in c.                    #\n",
        "##############################################################################\n",
        "# Replace \"pass\" statement with your code\n",
        "idxc=[3,2,1,0]\n",
        "c=a[idxc]\n",
        "##############################################################################\n",
        "#                             END OF YOUR CODE                               #\n",
        "##############################################################################\n",
        "print('\\nHere is c:')\n",
        "print(c)\n",
        "expected = [[10, 11, 12], [7, 8, 9], [4, 5, 6], [1, 2, 3]]\n",
        "print('c correct:', c.tolist() == expected)\n",
        "\n",
        "##############################################################################\n",
        "# TODO: Use integer array indexing to create a new tensor by selecting one   #\n",
        "# element from each column of a:                                             #\n",
        "# - From the first column, take the second element.                          #\n",
        "# - From the second column, take the first element.                          #\n",
        "# - From the third column, take the fourth element.                          #\n",
        "# Store the result in d.                                                     #\n",
        "##############################################################################\n",
        "# Replace \"pass\" statement with your code\n",
        "idxd=torch.arange(a.shape[0]-1)  #0,1,2\n",
        "idxdd=[1,0,3]\n",
        "d=a[idxdd,idxd]\n",
        "\n",
        "##############################################################################\n",
        "#                             END OF YOUR CODE                               #\n",
        "##############################################################################\n",
        "print('\\nHere is d:')\n",
        "print(d)\n",
        "expected = [4, 2, 12]\n",
        "print('d correct:', d.tolist() == expected)"
      ]
    },
    {
      "cell_type": "markdown",
      "metadata": {
        "id": "oGt8ZPb_vixw"
      },
      "source": [
        "### Boolean tensor indexing"
      ]
    },
    {
      "cell_type": "markdown",
      "metadata": {
        "id": "6CkQaRj01xmU"
      },
      "source": [
        "Boolean tensor indexing lets you pick out arbitrary elements of a tensor according to a boolean mask. Frequently this type of indexing is used to select or modify the elements of a tensor that satisfy some condition.\n",
        "\n",
        "In PyTorch, we use tensors of dtype `torch.uint8` to hold boolean masks; 0 means false and 1 means true.\n",
        "\n",
        "(PyTorch version 1.2.0 introduces a `torch.bool` type for tensors, which is used instead of `torch.uint8` for boolean masks. However in this class we are using PyTorch 1.1.0)"
      ]
    },
    {
      "cell_type": "code",
      "execution_count": 16,
      "metadata": {
        "colab": {
          "base_uri": "https://localhost:8080/"
        },
        "id": "29Zf7rb82Dkd",
        "outputId": "ff53b0bb-2082-4dee-bd41-3b2ae76ab56f"
      },
      "outputs": [
        {
          "name": "stdout",
          "output_type": "stream",
          "text": [
            "Original tensor:\n",
            "tensor([[1, 2],\n",
            "        [3, 4],\n",
            "        [5, 6]])\n",
            "\n",
            "Mask tensor:\n",
            "tensor([[False, False],\n",
            "        [False,  True],\n",
            "        [ True,  True]])\n",
            "\n",
            "Selecting elements with the mask:\n",
            "tensor([4, 5, 6])\n",
            "\n",
            "After modifying with a mask:\n",
            "tensor([[0, 0],\n",
            "        [0, 4],\n",
            "        [5, 6]])\n"
          ]
        }
      ],
      "source": [
        "a = torch.tensor([[1,2], [3, 4], [5, 6]])\n",
        "print('Original tensor:')\n",
        "print(a)\n",
        "\n",
        "# Find the elements of a that are bigger than 3. The mask has the same shape as\n",
        "# a, where each element of mask tells whether the corresponding element of a\n",
        "# is greater than three.\n",
        "mask = (a > 3)\n",
        "print('\\nMask tensor:')\n",
        "print(mask)\n",
        "\n",
        "# We can use the mask to construct a rank-1 tensor containing the elements of a\n",
        "# that are selected by the mask\n",
        "print('\\nSelecting elements with the mask:')\n",
        "print(a[mask])\n",
        "\n",
        "# We can also use boolean masks to modify tensors; for example this sets all\n",
        "# elements <= 3 to zero:\n",
        "a[a <= 3] = 0\n",
        "print('\\nAfter modifying with a mask:')\n",
        "print(a)"
      ]
    },
    {
      "cell_type": "markdown",
      "metadata": {
        "id": "LtSmmMGodrTX"
      },
      "source": [
        "Your turn: practice with boolean masks by implementing the following function:"
      ]
    },
    {
      "cell_type": "code",
      "execution_count": 22,
      "metadata": {
        "colab": {
          "base_uri": "https://localhost:8080/"
        },
        "id": "2hkeYXN9d5xh",
        "outputId": "1c00655c-18b8-4335-f81b-2eaadd5ce43b"
      },
      "outputs": [
        {
          "name": "stdout",
          "output_type": "stream",
          "text": [
            "num_negative seems to be correct!\n"
          ]
        }
      ],
      "source": [
        "def num_negative(x):\n",
        "  \"\"\"\n",
        "  Return the number of negative values in the tensor x\n",
        "\n",
        "  Inputs:\n",
        "  - x: A tensor of any shape\n",
        "\n",
        "  Returns:\n",
        "  - num_neg: Number of negative values in x\n",
        "  \"\"\"\n",
        "  num_neg = 0\n",
        "  ##############################################################################\n",
        "  # TODO: Use boolean masks to count the number of negative elements in x.     #\n",
        "  ##############################################################################\n",
        "  # Replace \"pass\" statement with your code\n",
        "  mark=(x<0)\n",
        " # print(mark)\n",
        " # print(x[mark].shape[0])\n",
        "  num_neg=x[mark].shape[0]\n",
        "  ##############################################################################\n",
        "  #                             END OF YOUR CODE                               #\n",
        "  ##############################################################################\n",
        "  return num_neg\n",
        "\n",
        "# Make a few test cases\n",
        "torch.manual_seed(598)\n",
        "x0 = torch.tensor([[-1, -1, 0], [0, 1, 2], [3, 4, 5]])\n",
        "x1 = torch.tensor([0, 1, 2, 3])\n",
        "x2 = torch.randn(100, 100)\n",
        "assert num_negative(x0) == 2\n",
        "assert num_negative(x1) == 0\n",
        "assert num_negative(x2) == 4984\n",
        "print('num_negative seems to be correct!')"
      ]
    },
    {
      "cell_type": "markdown",
      "metadata": {
        "id": "Q68ZApgH31W9"
      },
      "source": [
        "Now implement a function that creates a matrix of **one-hot vectors** from a list of Python integers.\n",
        "\n",
        "A one-hot vector for an integer $n$ is a vector that has a one in its $n$th slot, and zeros in all other slots. One-hot vectors are commonly used to represent categorical variables in machine learning models.\n",
        "\n",
        "For example, given a list `[1, 4, 3, 2]` of integers, your function should produce the tensor:\n",
        "\n",
        "```\n",
        "[[0 1 0 0 0],\n",
        " [0 0 0 0 1],\n",
        " [0 0 0 1 0],\n",
        " [0 0 1 0 0]]\n",
        "```\n",
        "\n",
        "Here the first row corresponds to the first element of the list: it has a one at index 1, and zeros at all other indices. The second row corresponds to the second element of the list: it has a one at index 4, and zeros at all other indices. The other rows follow the same pattern."
      ]
    },
    {
      "cell_type": "code",
      "execution_count": 32,
      "metadata": {
        "id": "bZfBmBFo4HRx"
      },
      "outputs": [],
      "source": [
        "def make_one_hot(x):\n",
        "  \"\"\"\n",
        "  Construct a tensor of one-hot-vectors from a list of Python integers.\n",
        "\n",
        "  Input:\n",
        "  - x: A list of N ints\n",
        "\n",
        "  Returns:\n",
        "  - y: A tensor of shape (N, C) where C = 1 + max(x) is one more than the max\n",
        "       value in x. The nth row of y is a one-hot-vector representation of x[n];\n",
        "       In other words, if x[n] = c then y[n, c] = 1; all other elements of y are\n",
        "       zeros.\n",
        "  \"\"\"\n",
        "  y = None\n",
        "  ##############################################################################\n",
        "  # TODO: Complete the implementation of this function.                        #\n",
        "  ##############################################################################\n",
        "  # Replace \"pass\" statement with your code\n",
        "  C=1+max(x)\n",
        "  N=x.__len__()\n",
        "  y=torch.zeros(N,C)\n",
        "  for i in range(N):\n",
        "   y[i,x[i]]=1\n",
        "  ##############################################################################\n",
        "  #                             END OF YOUR CODE                               #\n",
        "  ##############################################################################\n",
        "  return y"
      ]
    },
    {
      "cell_type": "markdown",
      "metadata": {
        "id": "nKTWTL-L9mx5"
      },
      "source": [
        "Now check your implementation:"
      ]
    },
    {
      "cell_type": "code",
      "execution_count": 33,
      "metadata": {
        "colab": {
          "base_uri": "https://localhost:8080/"
        },
        "id": "jaT1kuQ37Rsq",
        "outputId": "c46f61a5-bbb4-4d9e-ed32-728408674a53"
      },
      "outputs": [
        {
          "name": "stdout",
          "output_type": "stream",
          "text": [
            "Here is y0:\n",
            "tensor([[0., 1., 0., 0., 0.],\n",
            "        [0., 0., 0., 0., 1.],\n",
            "        [0., 0., 0., 1., 0.],\n",
            "        [0., 0., 1., 0., 0.]])\n",
            "\n",
            "Here is y1:\n",
            "tensor([[0., 1., 0., 0., 0., 0., 0., 0.],\n",
            "        [0., 0., 0., 1., 0., 0., 0., 0.],\n",
            "        [0., 0., 0., 0., 0., 1., 0., 0.],\n",
            "        [0., 0., 0., 0., 0., 0., 0., 1.],\n",
            "        [0., 0., 0., 0., 0., 0., 1., 0.],\n",
            "        [0., 0., 1., 0., 0., 0., 0., 0.]])\n",
            "all checks pass!\n"
          ]
        }
      ],
      "source": [
        "def check_one_hot(x, y):\n",
        "  C = y.shape[1]\n",
        "  for i, n in enumerate(x):\n",
        "    if n >= C: return False\n",
        "    for j in range(C):\n",
        "      expected = 1.0 if j == n else 0.0\n",
        "      if y[i, j].item() != expected: return False\n",
        "  return True\n",
        "\n",
        "x0 = [1, 4, 3, 2]\n",
        "y0 = make_one_hot(x0)\n",
        "print('Here is y0:')\n",
        "print(y0)\n",
        "assert check_one_hot(x0, y0), 'y0 is wrong'\n",
        "\n",
        "x1 = [1, 3, 5, 7, 6, 2]\n",
        "y1 = make_one_hot(x1)\n",
        "print('\\nHere is y1:')\n",
        "print(y1)\n",
        "assert check_one_hot(x1, y1), 'y1 is wrong'\n",
        "\n",
        "print('all checks pass!')"
      ]
    },
    {
      "cell_type": "markdown",
      "metadata": {
        "id": "Ad-xqELwyqpN"
      },
      "source": [
        "## Reshaping operations"
      ]
    },
    {
      "cell_type": "markdown",
      "metadata": {
        "id": "Ql9_eXuU4OG8"
      },
      "source": [
        "### View"
      ]
    },
    {
      "cell_type": "markdown",
      "metadata": {
        "id": "xfPb_2BY0HKw"
      },
      "source": [
        "PyTorch provides many ways to manipulate the shapes of tensors. The simplest example is [`.view()`](https://pytorch.org/docs/1.1.0/tensors.html#torch.Tensor.view): This returns a new tensor with the same number of elements as its input, but with a different shape.\n",
        "\n",
        "We can use `.view()` to flatten matrices into vectors, and to convert rank-1 vectors into rank-2 row or column matrices:"
      ]
    },
    {
      "cell_type": "code",
      "execution_count": 34,
      "metadata": {
        "colab": {
          "base_uri": "https://localhost:8080/"
        },
        "id": "kw-M7C_61FZK",
        "outputId": "77c1521c-7b9d-45fd-9b1e-18cc70f1f7c9"
      },
      "outputs": [
        {
          "name": "stdout",
          "output_type": "stream",
          "text": [
            "Original tensor:\n",
            "tensor([[1, 2, 3, 4],\n",
            "        [5, 6, 7, 8]])\n",
            "shape: torch.Size([2, 4])\n",
            "\n",
            "Flattened tensor:\n",
            "tensor([1, 2, 3, 4, 5, 6, 7, 8])\n",
            "shape: torch.Size([8])\n",
            "\n",
            "Row vector:\n",
            "tensor([[1, 2, 3, 4, 5, 6, 7, 8]])\n",
            "shape: torch.Size([1, 8])\n",
            "\n",
            "Column vector:\n",
            "tensor([[1],\n",
            "        [2],\n",
            "        [3],\n",
            "        [4],\n",
            "        [5],\n",
            "        [6],\n",
            "        [7],\n",
            "        [8]])\n",
            "shape: torch.Size([8, 1])\n",
            "\n",
            "Rank 3 tensor:\n",
            "tensor([[[1, 2],\n",
            "         [3, 4]],\n",
            "\n",
            "        [[5, 6],\n",
            "         [7, 8]]])\n",
            "shape: torch.Size([2, 2, 2])\n"
          ]
        }
      ],
      "source": [
        "x0 = torch.tensor([[1, 2, 3, 4], [5, 6, 7, 8]])\n",
        "print('Original tensor:')\n",
        "print(x0)\n",
        "print('shape:', x0.shape)\n",
        "\n",
        "# Flatten x0 into a rank 1 vector of shape (8,)\n",
        "x1 = x0.view(8)\n",
        "print('\\nFlattened tensor:')\n",
        "print(x1)\n",
        "print('shape:', x1.shape)\n",
        "\n",
        "# Convert x1 to a rank 2 \"row vector\" of shape (1, 8)\n",
        "x2 = x1.view(1, 8)\n",
        "print('\\nRow vector:')\n",
        "print(x2)\n",
        "print('shape:', x2.shape)\n",
        "\n",
        "# Convert x1 to a rank 2 \"column vector\" of shape (8, 1)\n",
        "x3 = x1.view(8, 1)\n",
        "print('\\nColumn vector:')\n",
        "print(x3)\n",
        "print('shape:', x3.shape)\n",
        "\n",
        "# Convert x1 to a rank 3 tensor of shape (2, 2, 2):\n",
        "x4 = x1.view(2, 2, 2)\n",
        "print('\\nRank 3 tensor:')\n",
        "print(x4)\n",
        "print('shape:', x4.shape)"
      ]
    },
    {
      "cell_type": "markdown",
      "metadata": {
        "id": "eHsZ8BPF2PEq"
      },
      "source": [
        "As a convenience, calls to `.view()` may include a single -1 argument; this puts enough elements on that dimension so that the output has the same shape as the input. This makes it easy to write some reshape operations in a way that is agnostic to the shape of the tensor:\n",
        "\n",
        "view（-1）：把任意张量转换成一维（n,）\n",
        "\n",
        "view（1，-1）：转换成（1，n）实际是二维\n",
        "\n",
        "这里的-1理解成n"
      ]
    },
    {
      "cell_type": "code",
      "execution_count": 35,
      "metadata": {
        "colab": {
          "base_uri": "https://localhost:8080/"
        },
        "id": "qNWu-R_J2qFY",
        "outputId": "d4056e70-e180-487d-964b-5d189a312d64"
      },
      "outputs": [
        {
          "name": "stdout",
          "output_type": "stream",
          "text": [
            "x0:\n",
            "tensor([[1, 2, 3],\n",
            "        [4, 5, 6]])\n",
            "x0_flat:\n",
            "tensor([1, 2, 3, 4, 5, 6])\n",
            "x0_row:\n",
            "tensor([[1, 2, 3, 4, 5, 6]])\n",
            "\n",
            "x1:\n",
            "tensor([[1, 2],\n",
            "        [3, 4]])\n",
            "x1_flat:\n",
            "tensor([1, 2, 3, 4])\n",
            "x1_row:\n",
            "tensor([[1, 2, 3, 4]])\n"
          ]
        }
      ],
      "source": [
        "# We can reuse these functions for tensors of different shapes\n",
        "def flatten(x):\n",
        "  return x.view(-1)\n",
        "\n",
        "def make_row_vec(x):\n",
        "  return x.view(1, -1)\n",
        "\n",
        "x0 = torch.tensor([[1, 2, 3], [4, 5, 6]])\n",
        "x0_flat = flatten(x0)\n",
        "x0_row = make_row_vec(x0)\n",
        "print('x0:')\n",
        "print(x0)\n",
        "print('x0_flat:')\n",
        "print(x0_flat)\n",
        "print('x0_row:')\n",
        "print(x0_row)\n",
        "\n",
        "x1 = torch.tensor([[1, 2], [3, 4]])\n",
        "x1_flat = flatten(x1)\n",
        "x1_row = make_row_vec(x1)\n",
        "print('\\nx1:')\n",
        "print(x1)\n",
        "print('x1_flat:')\n",
        "print(x1_flat)\n",
        "print('x1_row:')\n",
        "print(x1_row)"
      ]
    },
    {
      "cell_type": "markdown",
      "metadata": {
        "id": "DK-ZB5aB2NPq"
      },
      "source": [
        "As its name implies, a tensor returned by `.view()` shares the same data as the input, so changes to one will affect the other and vice-versa:\n",
        "\n",
        "view和slicp切片一样 都会共享一个存储，但是clone不会"
      ]
    },
    {
      "cell_type": "code",
      "execution_count": 36,
      "metadata": {
        "colab": {
          "base_uri": "https://localhost:8080/"
        },
        "id": "ebT99rUo2McN",
        "outputId": "37baa1b3-60ad-4b18-ac40-e8143833a810"
      },
      "outputs": [
        {
          "name": "stdout",
          "output_type": "stream",
          "text": [
            "x before modifying:\n",
            "tensor([[1, 2, 3],\n",
            "        [4, 5, 6]])\n",
            "x_flat before modifying:\n",
            "tensor([1, 2, 3, 4, 5, 6])\n",
            "\n",
            "x after modifying:\n",
            "tensor([[10, 20,  3],\n",
            "        [ 4,  5,  6]])\n",
            "x_flat after modifying:\n",
            "tensor([10, 20,  3,  4,  5,  6])\n"
          ]
        }
      ],
      "source": [
        "x = torch.tensor([[1, 2, 3], [4, 5, 6]])\n",
        "x_flat = x.view(-1)\n",
        "print('x before modifying:')\n",
        "print(x)\n",
        "print('x_flat before modifying:')\n",
        "print(x_flat)\n",
        "\n",
        "x[0, 0] = 10   # x[0, 0] and x_flat[0] point to the same data\n",
        "x_flat[1] = 20 # x_flat[1] and x[0, 1] point to the same data\n",
        "\n",
        "print('\\nx after modifying:')\n",
        "print(x)\n",
        "print('x_flat after modifying:')\n",
        "print(x_flat)"
      ]
    },
    {
      "cell_type": "markdown",
      "metadata": {
        "id": "Z150qBob4Wkz"
      },
      "source": [
        "### Swapping axes"
      ]
    },
    {
      "cell_type": "markdown",
      "metadata": {
        "id": "TCMDxbyBys78"
      },
      "source": [
        "Another common reshape operation you might want to perform is transposing a matrix. You might be surprised if you try to transpose a matrix with `.view()`: The `view()` function takes elements in row-major order, so **you cannot transpose matrices with `.view()`**.\n",
        "\n",
        "In general, you should only use `.view()` to add new dimensions to a tensor, or to collapse adjacent dimensions of a tensor.\n",
        "\n",
        "For other types of reshape operations, you usually need to use a function that can swap axes of a tensor. The simplest such function is `.t()`, specificially for transposing matrices. It is available both as a [function in the `torch` module](https://pytorch.org/docs/1.1.0/torch.html#torch.t), and as a [tensor instance method](https://pytorch.org/docs/1.1.0/tensors.html#torch.Tensor.t):\n",
        "\n",
        "view一般用于折叠或添加维数，而x.t()或torch.t(x)或x.T是转置"
      ]
    },
    {
      "cell_type": "code",
      "execution_count": 39,
      "metadata": {
        "colab": {
          "base_uri": "https://localhost:8080/"
        },
        "id": "o_B4NuX6zQm-",
        "outputId": "edda1d35-e206-427c-ef98-4c1b2488086c"
      },
      "outputs": [
        {
          "name": "stdout",
          "output_type": "stream",
          "text": [
            "Original matrix:\n",
            "tensor([[1, 2, 3],\n",
            "        [4, 5, 6]])\n",
            "\n",
            "Transposing with view DOES NOT WORK!\n",
            "tensor([[1, 2],\n",
            "        [3, 4],\n",
            "        [5, 6]])\n",
            "\n",
            "Transposed matrix:\n",
            "tensor([[1, 4],\n",
            "        [2, 5],\n",
            "        [3, 6]])\n",
            "tensor([[1, 4],\n",
            "        [2, 5],\n",
            "        [3, 6]])\n",
            "tensor([[1, 2, 3],\n",
            "        [4, 5, 6]])\n",
            "tensor([[1, 4],\n",
            "        [2, 5],\n",
            "        [3, 6]])\n"
          ]
        }
      ],
      "source": [
        "x = torch.tensor([[1, 2, 3], [4, 5, 6]])\n",
        "print('Original matrix:')\n",
        "print(x)\n",
        "print('\\nTransposing with view DOES NOT WORK!')\n",
        "print(x.view(3, 2))\n",
        "print('\\nTransposed matrix:')\n",
        "print(torch.t(x))\n",
        "print(x.t())\n",
        "print(x)\n",
        "print(x.T)"
      ]
    },
    {
      "cell_type": "markdown",
      "metadata": {
        "id": "RN93xo98zn0v"
      },
      "source": [
        "For tensors with more than two dimensions, we can use the function [`torch.transpose`](https://pytorch.org/docs/1.1.0/torch.html#torch.transpose) to swap arbitrary dimensions, or the [`.permute`](https://pytorch.org/docs/1.1.0/tensors.html#torch.Tensor.permute) method to arbitrarily permute dimensions:\n",
        "![image.png](data:image/png;base64,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)"
      ]
    },
    {
      "cell_type": "code",
      "execution_count": 40,
      "metadata": {
        "colab": {
          "base_uri": "https://localhost:8080/"
        },
        "id": "XgN7YB8YzzkA",
        "outputId": "8c25d279-5e0b-4397-df51-098f63ff3dc3"
      },
      "outputs": [
        {
          "name": "stdout",
          "output_type": "stream",
          "text": [
            "Original tensor:\n",
            "tensor([[[ 1,  2,  3,  4],\n",
            "         [ 5,  6,  7,  8],\n",
            "         [ 9, 10, 11, 12]],\n",
            "\n",
            "        [[13, 14, 15, 16],\n",
            "         [17, 18, 19, 20],\n",
            "         [21, 22, 23, 24]]])\n",
            "shape: torch.Size([2, 3, 4])\n",
            "\n",
            "Swap axes 1 and 2:\n",
            "tensor([[[ 1,  5,  9],\n",
            "         [ 2,  6, 10],\n",
            "         [ 3,  7, 11],\n",
            "         [ 4,  8, 12]],\n",
            "\n",
            "        [[13, 17, 21],\n",
            "         [14, 18, 22],\n",
            "         [15, 19, 23],\n",
            "         [16, 20, 24]]])\n",
            "torch.Size([2, 4, 3])\n",
            "\n",
            "Permute axes\n",
            "tensor([[[ 1, 13],\n",
            "         [ 2, 14],\n",
            "         [ 3, 15],\n",
            "         [ 4, 16]],\n",
            "\n",
            "        [[ 5, 17],\n",
            "         [ 6, 18],\n",
            "         [ 7, 19],\n",
            "         [ 8, 20]],\n",
            "\n",
            "        [[ 9, 21],\n",
            "         [10, 22],\n",
            "         [11, 23],\n",
            "         [12, 24]]])\n",
            "shape: torch.Size([3, 4, 2])\n"
          ]
        }
      ],
      "source": [
        "# Create a tensor of shape (2, 3, 4)\n",
        "x0 = torch.tensor([\n",
        "     [[1,  2,  3,  4],\n",
        "      [5,  6,  7,  8],\n",
        "      [9, 10, 11, 12]],\n",
        "     [[13, 14, 15, 16],\n",
        "      [17, 18, 19, 20],\n",
        "      [21, 22, 23, 24]]])\n",
        "print('Original tensor:')\n",
        "print(x0)\n",
        "print('shape:', x0.shape)\n",
        "\n",
        "# Swap axes 1 and 2; shape is (2, 4, 3)\n",
        "x1 = x0.transpose(1, 2)\n",
        "print('\\nSwap axes 1 and 2:')\n",
        "print(x1)\n",
        "print(x1.shape)\n",
        "\n",
        "# Permute axes; the argument (1, 2, 0) means:\n",
        "# - Make the old dimension 1 appear at dimension 0;\n",
        "# - Make the old dimension 2 appear at dimension 1;\n",
        "# - Make the old dimension 0 appear at dimension 2\n",
        "# This results in a tensor of shape (3, 4, 2)\n",
        "x2 = x0.permute(1, 2, 0)\n",
        "print('\\nPermute axes')\n",
        "print(x2)\n",
        "print('shape:', x2.shape)"
      ]
    },
    {
      "cell_type": "markdown",
      "metadata": {
        "id": "f4SJCVbf-bZ0"
      },
      "source": [
        "### Contiguous tensors 连续张量"
      ]
    },
    {
      "cell_type": "markdown",
      "metadata": {
        "id": "ubOOujO_-pQT"
      },
      "source": [
        "Some combinations of reshaping operations will fail with cryptic errors. The exact reasons for this have to do with the way that tensors and views of tensors are implemented, and are beyond the scope of this assignment. However if you're curious, [this blog post by Edward Yang](http://blog.ezyang.com/2019/05/pytorch-internals/) gives a clear explanation of the problem.\n",
        "\n",
        "What you need to know is that you can typically overcome these sorts of errors by either by calling [`.contiguous()`](https://pytorch.org/docs/1.1.0/tensors.html#torch.Tensor.contiguous) before `.view()`, or by using [`.reshape()`](https://pytorch.org/docs/1.1.0/tensors.html#torch.Tensor.reshape) instead of `.view()`."
      ]
    },
    {
      "cell_type": "code",
      "execution_count": 3,
      "metadata": {
        "colab": {
          "base_uri": "https://localhost:8080/"
        },
        "id": "YGC6NERq_CT9",
        "outputId": "947b045c-4607-4d5b-b6a0-16baf268b954"
      },
      "outputs": [
        {
          "name": "stdout",
          "output_type": "stream",
          "text": [
            "<class 'RuntimeError'> view size is not compatible with input tensor's size and stride (at least one dimension spans across two contiguous subspaces). Use .reshape(...) instead.\n",
            "x1 shape:  torch.Size([8, 3])\n",
            "x2 shape:  torch.Size([8, 3])\n"
          ]
        }
      ],
      "source": [
        "import torch\n",
        "x0 = torch.randn(2, 3, 4)\n",
        "\n",
        "try:\n",
        "  # This sequence of reshape operations will crash 报错transpose可能使得内存分散，而view需要其连续\n",
        "  x1 = x0.transpose(1, 2).view(8, 3)\n",
        "except RuntimeError as e:\n",
        "  print(type(e), e)\n",
        "\n",
        "# We can solve the problem using either .contiguous() or .reshape()\n",
        "x1 = x0.transpose(1, 2).contiguous().view(8, 3)\n",
        "x2 = x0.transpose(1, 2).reshape(8, 3)\n",
        "print('x1 shape: ', x1.shape)\n",
        "print('x2 shape: ', x2.shape)"
      ]
    },
    {
      "cell_type": "markdown",
      "metadata": {
        "id": "WJiiBxNE-X8g"
      },
      "source": [
        "### Your turn"
      ]
    },
    {
      "cell_type": "markdown",
      "metadata": {
        "id": "iOVzHiX-86Ew"
      },
      "source": [
        "Given the 1-dimensional input tensor `x0` containing the numbers 0 through 23 in order, apply a sequence of reshaping operations to `x0` to create the following tensor:\n",
        "\n",
        "```\n",
        "x1 = tensor([[ 0,  1,  2,  3, 12, 13, 14, 15],\n",
        "             [ 4,  5,  6,  7, 16, 17, 18, 19],\n",
        "             [ 8,  9, 10, 11, 20, 21, 22, 23]])\n",
        "```\n",
        "\n",
        "Hint: You will need to create an intermediate tensor of rank 3"
      ]
    },
    {
      "cell_type": "code",
      "execution_count": 27,
      "metadata": {
        "colab": {
          "base_uri": "https://localhost:8080/"
        },
        "id": "hI59iIdS8Hms",
        "outputId": "d4b4a786-9824-4489-9a51-fc8ce70da2b2"
      },
      "outputs": [
        {
          "name": "stdout",
          "output_type": "stream",
          "text": [
            "Here is x0:\n",
            "tensor([ 0,  1,  2,  3,  4,  5,  6,  7,  8,  9, 10, 11, 12, 13, 14, 15, 16, 17,\n",
            "        18, 19, 20, 21, 22, 23])\n",
            "tensor([[[ 0,  1,  2,  3],\n",
            "         [ 4,  5,  6,  7],\n",
            "         [ 8,  9, 10, 11]],\n",
            "\n",
            "        [[12, 13, 14, 15],\n",
            "         [16, 17, 18, 19],\n",
            "         [20, 21, 22, 23]]])\n",
            "tensor([[[ 0,  1,  2,  3],\n",
            "         [12, 13, 14, 15]],\n",
            "\n",
            "        [[ 4,  5,  6,  7],\n",
            "         [16, 17, 18, 19]],\n",
            "\n",
            "        [[ 8,  9, 10, 11],\n",
            "         [20, 21, 22, 23]]])\n",
            "\n",
            "Here is x1:\n",
            "tensor([[ 0,  1,  2,  3, 12, 13, 14, 15],\n",
            "        [ 4,  5,  6,  7, 16, 17, 18, 19],\n",
            "        [ 8,  9, 10, 11, 20, 21, 22, 23]])\n",
            "Correct: True\n"
          ]
        }
      ],
      "source": [
        "x0 = torch.arange(24)\n",
        "print('Here is x0:')\n",
        "print(x0)\n",
        "\n",
        "x1 = None\n",
        "##############################################################################\n",
        "# TODO: Use reshape operations to create x1 from x0                          #\n",
        "##############################################################################\n",
        "# Replace \"pass\" statement with your code\n",
        "x1=x0.reshape(2,3,4)\n",
        "print(x1)\n",
        "x1=x1.permute(1,0,2)\n",
        "print(x1)\n",
        "x1=x1.reshape(3,8)\n",
        "\n",
        "##############################################################################\n",
        "#                             END OF YOUR CODE                               #\n",
        "##############################################################################\n",
        "print('\\nHere is x1:')\n",
        "print(x1)\n",
        "\n",
        "expected = [\n",
        "    [0, 1,  2,  3, 12, 13, 14, 15],\n",
        "    [4, 5,  6,  7, 16, 17, 18, 19],\n",
        "    [8, 9, 10, 11, 20, 21, 22, 23]]\n",
        "print('Correct:', x1.tolist() == expected)"
      ]
    },
    {
      "cell_type": "markdown",
      "metadata": {
        "id": "NgcdvD1evxTQ"
      },
      "source": [
        "## Tensor operations"
      ]
    },
    {
      "cell_type": "markdown",
      "metadata": {
        "id": "1BCVlPHZ4_Qz"
      },
      "source": [
        "### Elementwise operations 张量运算，张量的函数"
      ]
    },
    {
      "cell_type": "markdown",
      "metadata": {
        "id": "f2wbN18E5CKI"
      },
      "source": [
        "Basic mathematical functions operate elementwise on tensors, and are available as operator overloads, as functions in the `torch` module, and as instance methods on torch objects; all produce the same results:"
      ]
    },
    {
      "cell_type": "code",
      "execution_count": 28,
      "metadata": {
        "colab": {
          "base_uri": "https://localhost:8080/"
        },
        "id": "QrMkbk535KRZ",
        "outputId": "c248a03a-c77d-4d0c-be20-c0cb60285245"
      },
      "outputs": [
        {
          "name": "stdout",
          "output_type": "stream",
          "text": [
            "Elementwise sum:\n",
            "tensor([[ 6.,  8., 10., 12.]])\n",
            "tensor([[ 6.,  8., 10., 12.]])\n",
            "tensor([[ 6.,  8., 10., 12.]])\n",
            "\n",
            "Elementwise difference:\n",
            "tensor([[-4., -4., -4., -4.]])\n",
            "tensor([[-4., -4., -4., -4.]])\n",
            "tensor([[-4., -4., -4., -4.]])\n",
            "\n",
            "Elementwise product:\n",
            "tensor([[ 5., 12., 21., 32.]])\n",
            "tensor([[ 5., 12., 21., 32.]])\n",
            "tensor([[ 5., 12., 21., 32.]])\n",
            "\n",
            "Elementwise division\n",
            "tensor([[0.2000, 0.3333, 0.4286, 0.5000]])\n",
            "tensor([[0.2000, 0.3333, 0.4286, 0.5000]])\n",
            "tensor([[0.2000, 0.3333, 0.4286, 0.5000]])\n",
            "\n",
            "Elementwise power\n",
            "tensor([[1.0000e+00, 6.4000e+01, 2.1870e+03, 6.5536e+04]])\n",
            "tensor([[1.0000e+00, 6.4000e+01, 2.1870e+03, 6.5536e+04]])\n",
            "tensor([[1.0000e+00, 6.4000e+01, 2.1870e+03, 6.5536e+04]])\n"
          ]
        }
      ],
      "source": [
        "x = torch.tensor([[1, 2, 3, 4]], dtype=torch.float32)\n",
        "y = torch.tensor([[5, 6, 7, 8]], dtype=torch.float32)\n",
        "\n",
        "# Elementwise sum; all give the same result\n",
        "print('Elementwise sum:')\n",
        "print(x + y)\n",
        "print(torch.add(x, y))\n",
        "print(x.add(y))\n",
        "\n",
        "# Elementwise difference\n",
        "print('\\nElementwise difference:')\n",
        "print(x - y)\n",
        "print(torch.sub(x, y))\n",
        "print(x.sub(y))\n",
        "\n",
        "# Elementwise product\n",
        "print('\\nElementwise product:')\n",
        "print(x * y)\n",
        "print(torch.mul(x, y))\n",
        "print(x.mul(y))\n",
        "\n",
        "# Elementwise division\n",
        "print('\\nElementwise division')\n",
        "print(x / y)\n",
        "print(torch.div(x, y))\n",
        "print(x.div(y))\n",
        "\n",
        "# Elementwise power\n",
        "print('\\nElementwise power')\n",
        "print(x ** y)\n",
        "print(torch.pow(x, y))\n",
        "print(x.pow(y))"
      ]
    },
    {
      "cell_type": "markdown",
      "metadata": {
        "id": "A6WwPJMYlYvN"
      },
      "source": [
        "Torch also provides many standard mathematical functions; these are available both as functions in the `torch` module and as instance methods on tensors:\n",
        "\n",
        "You can find a full list of all available mathematical functions [in the documentation](https://pytorch.org/docs/stable/torch.html#pointwise-ops); many functions in the `torch` module have corresponding instance methods [on tensor objects](https://pytorch.org/docs/stable/tensors.html)."
      ]
    },
    {
      "cell_type": "code",
      "execution_count": null,
      "metadata": {
        "id": "s87mjsnG58vR"
      },
      "outputs": [],
      "source": [
        "x = torch.tensor([[1, 2, 3, 4]], dtype=torch.float32)\n",
        "\n",
        "print('Square root:')\n",
        "print(torch.sqrt(x))\n",
        "print(x.sqrt())\n",
        "\n",
        "print('\\nTrig functions:')\n",
        "print(torch.sin(x))\n",
        "print(x.sin())\n",
        "print(torch.cos(x))\n",
        "print(x.cos())"
      ]
    },
    {
      "cell_type": "markdown",
      "metadata": {
        "id": "yDyH9USAuyZ-"
      },
      "source": [
        "### Reduction operations  张量约化（约归）操作：sum，mean,min,max"
      ]
    },
    {
      "cell_type": "markdown",
      "metadata": {
        "id": "wbHP9SpZHoMO"
      },
      "source": [
        "So far we've seen basic arithmetic operations on tensors that operate elementwise. We may sometimes want to perform operations that aggregate over part or all of a tensor, such as a summation; these are called **reduction** operations.\n",
        "\n",
        "Like the elementwise operations above, most reduction operations are available both as functions in the `torch` module and as instance methods on `tensor` objects.\n",
        "\n",
        "The simplest reduction operation is summation. We can use the `.sum()` function to reduce either an entire tensor, or to reduce along only one dimension of the tensor using the `dim` argument:\n",
        "\n",
        "注意：x.sum(),x.t()对x本身不影响\n",
        "\n",
        "torch中dim=0，dim=1等等代表谁：\n",
        "\n",
        "二维：(x,y)x是行，y是列，x.sum(dim=0)代表对x轴求和；x.sum(dim=1)代表对y轴求和\n",
        "\n",
        "三维：（z,x,y），z是堆叠矩阵的高度，x、y同上，dim=0此时就是z轴\n",
        "\n",
        "参看：https://zhuanlan.zhihu.com/p/511206937"
      ]
    },
    {
      "cell_type": "code",
      "execution_count": 30,
      "metadata": {
        "colab": {
          "base_uri": "https://localhost:8080/"
        },
        "id": "LlmsYJWUE2r3",
        "outputId": "5157ae59-68b6-4766-82f8-b1dea4956410"
      },
      "outputs": [
        {
          "name": "stdout",
          "output_type": "stream",
          "text": [
            "Original tensor:\n",
            "tensor([[1., 2., 3.],\n",
            "        [4., 5., 6.]])\n",
            "\n",
            "Sum over entire tensor:\n",
            "tensor(21.)\n",
            "tensor(21.)\n",
            "torch.Size([2, 3])\n",
            "\n",
            "Sum of each row:\n",
            "tensor([5., 7., 9.])\n",
            "tensor([5., 7., 9.])\n",
            "\n",
            "Sum of each column:\n",
            "tensor([ 6., 15.])\n",
            "tensor([ 6., 15.])\n"
          ]
        }
      ],
      "source": [
        "x = torch.tensor([[1, 2, 3],\n",
        "                  [4, 5, 6]], dtype=torch.float32)\n",
        "print('Original tensor:')\n",
        "print(x)\n",
        "\n",
        "print('\\nSum over entire tensor:')\n",
        "print(torch.sum(x))\n",
        "print(x.sum())\n",
        "print(x.shape)\n",
        "\n",
        "# We can sum over each row:\n",
        "print('\\nSum of each row:')\n",
        "print(torch.sum(x, dim=0))\n",
        "print(x.sum(dim=0))\n",
        "\n",
        "# Sum over each column:\n",
        "print('\\nSum of each column:')\n",
        "print(torch.sum(x, dim=1))\n",
        "print(x.sum(dim=1))"
      ]
    },
    {
      "cell_type": "markdown",
      "metadata": {
        "id": "DzKio_3Quz5a"
      },
      "source": [
        "Other useful reduction operations include [`mean`](https://pytorch.org/docs/stable/torch.html#torch.mean), [`min`](https://pytorch.org/docs/stable/torch.html#torch.min), and [`max`](https://pytorch.org/docs/stable/torch.html#torch.max). You can find a full list of all available reduction operations [in the documentation](https://pytorch.org/docs/stable/torch.html#reduction-ops).\n",
        "\n",
        "Some reduction operations return more than one value; for example `min` returns both the minimum value over the specified dimension, as well as the index where the minimum value occurs:"
      ]
    },
    {
      "cell_type": "code",
      "execution_count": 31,
      "metadata": {
        "colab": {
          "base_uri": "https://localhost:8080/"
        },
        "id": "TFD7aT54H4ik",
        "outputId": "713746e2-a3d9-4d22-b6eb-d778538f3a75"
      },
      "outputs": [
        {
          "name": "stdout",
          "output_type": "stream",
          "text": [
            "Original tensor:\n",
            "tensor([[2., 4., 3., 5.],\n",
            "        [3., 3., 5., 2.]]) torch.Size([2, 4])\n",
            "\n",
            "Overall minimum:  tensor(2.)\n",
            "\n",
            "Minimum along each column:\n",
            "values: tensor([2., 3., 3., 2.])\n",
            "idxs: tensor([0, 1, 0, 1])\n",
            "\n",
            "Minimum along each row:\n",
            "values: tensor([2., 2.])\n",
            "idxs: tensor([0, 3])\n"
          ]
        }
      ],
      "source": [
        "x = torch.tensor([[2, 4, 3, 5], [3, 3, 5, 2]], dtype=torch.float32)\n",
        "print('Original tensor:')\n",
        "print(x, x.shape)\n",
        "\n",
        "# Finding the overall minimum only returns a single value\n",
        "print('\\nOverall minimum: ', x.min())\n",
        "\n",
        "# Compute the minimum along each column; we get both the value and location:\n",
        "# The minimum of the first column is 2, and it appears at index 0;\n",
        "# the minimum of the second column is 3 and it appears at index 1; etc\n",
        "col_min_vals, col_min_idxs = x.min(dim=0)\n",
        "print('\\nMinimum along each column:')\n",
        "print('values:', col_min_vals)\n",
        "print('idxs:', col_min_idxs)\n",
        "\n",
        "# Compute the minimum along each row; we get both the value and the minimum\n",
        "row_min_vals, row_min_idxs = x.min(dim=1)\n",
        "print('\\nMinimum along each row:')\n",
        "print('values:', row_min_vals)\n",
        "print('idxs:', row_min_idxs)"
      ]
    },
    {
      "cell_type": "markdown",
      "metadata": {
        "id": "XFwYRESoFr4t"
      },
      "source": [
        "Reduction operations *reduce* the rank of tensors: the dimension over which you perform the reduction will be removed from the shape of the output. If you pass `keepdim=True` to a reduction operation, the specified dimension will not be removed; the output tensor will instead have a shape of 1 in that dimension.\n",
        "\n",
        "When you are working with multidimensional tensors, thinking about rows and columns can become confusing; instead it's more useful to think about the shape that will result from each operation. For example:"
      ]
    },
    {
      "cell_type": "code",
      "execution_count": 36,
      "metadata": {
        "colab": {
          "base_uri": "https://localhost:8080/"
        },
        "id": "sjcAveyJFqm7",
        "outputId": "c29abafe-8363-4709-ef29-6edc33a160ae"
      },
      "outputs": [
        {
          "name": "stdout",
          "output_type": "stream",
          "text": [
            "torch.Size([128, 10, 3, 64, 64])\n",
            "torch.Size([128, 3, 64, 64])\n",
            "torch.Size([128, 3, 64])\n",
            "torch.Size([128, 1, 64])\n",
            "tensor([[0, 1, 2, 3],\n",
            "        [4, 5, 6, 7]])\n",
            "tensor([ 4,  6,  8, 10]) torch.Size([4])\n",
            "tensor([[ 4,  6,  8, 10]]) torch.Size([1, 4])\n"
          ]
        }
      ],
      "source": [
        "# Create a tensor of shape (128, 10, 3, 64, 64)\n",
        "x = torch.randn(128, 10, 3, 64, 64)\n",
        "print(x.shape)\n",
        "\n",
        "# Take the mean over dimension 1; shape is now (128, 3, 64, 64)\n",
        "x = x.mean(dim=1)\n",
        "print(x.shape)\n",
        "\n",
        "# Take the sum over dimension 2; shape is now (128, 3, 64)\n",
        "x = x.sum(dim=2)\n",
        "print(x.shape)\n",
        "\n",
        "# Take the mean over dimension 1, but keep the dimension from being eliminated\n",
        "# by passing keepdim=True; shape is now (128, 1, 64)\n",
        "x = x.mean(dim=1, keepdim=True)\n",
        "print(x.shape)\n",
        "\n",
        "\n",
        "\n",
        "a=torch.arange(8).reshape(2,4)\n",
        "print(a)\n",
        "print(a.sum(dim=0),a.sum(dim=0).shape)\n",
        "print(a.sum(dim=0,keepdim=True),a.sum(dim=0,keepdim=True).shape)"
      ]
    },
    {
      "cell_type": "markdown",
      "metadata": {
        "id": "gXMp4tcM0Q_E"
      },
      "source": [
        "Your turn: use reduction and indexing operations to implement a function that sets the minimum value along each row of a tensor to zero.\n",
        "\n",
        "Hint: [`torch.argmin`](https://pytorch.org/docs/stable/torch.html#torch.argmin)"
      ]
    },
    {
      "cell_type": "code",
      "execution_count": 39,
      "metadata": {
        "colab": {
          "base_uri": "https://localhost:8080/"
        },
        "id": "nzD-QVTR0bRu",
        "outputId": "387185ca-d7dc-4981-f32a-26fd9fb2fa7b"
      },
      "outputs": [
        {
          "name": "stdout",
          "output_type": "stream",
          "text": [
            "Here is x0:\n",
            "tensor([[10, 20, 30],\n",
            "        [ 2,  5,  1]])\n",
            "tensor([0, 2])\n",
            "Here is y0:\n",
            "tensor([[ 0, 20, 30],\n",
            "        [ 2,  5,  0]])\n"
          ]
        }
      ],
      "source": [
        "def zero_row_min(x):\n",
        "  \"\"\"\n",
        "  Return a copy of x, where the minimum value along each row has been set to 0.\n",
        "\n",
        "  For example, if x is:\n",
        "  x = torch.tensor([[\n",
        "        [10, 20, 30],\n",
        "        [ 2,  5,  1]\n",
        "      ]])\n",
        "\n",
        "  Then y = zero_row_min(x) should be:\n",
        "  torch.tensor([\n",
        "    [0, 20, 30],\n",
        "    [2,  5,  0]\n",
        "  ])\n",
        "\n",
        "  Inputs:\n",
        "  - x: Tensor of rank 2 with shape (N, M)\n",
        "\n",
        "  Returns:\n",
        "  - y: Tensor of rank 2 that is a copy of x, except the minimum value along each\n",
        "       row is replaced with 0.\n",
        "  \"\"\"\n",
        "  y = x.clone()\n",
        "  ##############################################################################\n",
        "  # TODO: Complete the implementation of this function.                        #\n",
        "  ##############################################################################\n",
        "  # Replace \"pass\" statement with your code\n",
        "  idx0=torch.arange(y.shape[0])\n",
        "  idx1=y.argmin(dim=1)\n",
        "  print(y.argmin(dim=1))\n",
        "  y[idx0,idx1]=0\n",
        "  ##############################################################################\n",
        "  #                             END OF YOUR CODE                               #\n",
        "  ##############################################################################\n",
        "  return y\n",
        "\n",
        "\n",
        "x0 = torch.tensor([[10, 20, 30], [2, 5, 1]])\n",
        "print('Here is x0:')\n",
        "print(x0)\n",
        "y0 = zero_row_min(x0)\n",
        "print('Here is y0:')\n",
        "print(y0)"
      ]
    },
    {
      "cell_type": "markdown",
      "metadata": {
        "id": "E8a8ZEzJ2xv_"
      },
      "source": [
        "Now test your implementation with a few small test cases:"
      ]
    },
    {
      "cell_type": "code",
      "execution_count": 40,
      "metadata": {
        "colab": {
          "base_uri": "https://localhost:8080/"
        },
        "id": "aaJzt-Y62blF",
        "outputId": "8c5fda40-f1c8-4473-c737-b4f8ac0ecab1"
      },
      "outputs": [
        {
          "name": "stdout",
          "output_type": "stream",
          "text": [
            "Here is x0:\n",
            "tensor([[10, 20, 30],\n",
            "        [ 2,  5,  1]])\n",
            "tensor([0, 2])\n",
            "Here is y0:\n",
            "tensor([[ 0, 20, 30],\n",
            "        [ 2,  5,  0]])\n",
            "\n",
            "Here is x1:\n",
            "tensor([[ 2,  5, 10, -1],\n",
            "        [ 1,  3,  2,  4],\n",
            "        [ 5,  6,  2, 10]])\n",
            "tensor([3, 0, 2])\n",
            "Here is y1:\n",
            "tensor([[ 2,  5, 10,  0],\n",
            "        [ 0,  3,  2,  4],\n",
            "        [ 5,  6,  0, 10]])\n",
            "\n",
            "Simple tests pass!\n"
          ]
        }
      ],
      "source": [
        "x0 = torch.tensor([[10, 20, 30], [2, 5, 1]])\n",
        "print('Here is x0:')\n",
        "print(x0)\n",
        "y0 = zero_row_min(x0)\n",
        "print('Here is y0:')\n",
        "print(y0)\n",
        "assert y0.tolist() == [[0, 20, 30], [2, 5, 0]]\n",
        "\n",
        "x1 = torch.tensor([[2, 5, 10, -1], [1, 3, 2, 4], [5, 6, 2, 10]])\n",
        "print('\\nHere is x1:')\n",
        "print(x1)\n",
        "y1 = zero_row_min(x1)\n",
        "print('Here is y1:')\n",
        "print(y1)\n",
        "assert y1.tolist() == [[2, 5, 10, 0], [0, 3, 2, 4], [5, 6, 0, 10]]\n",
        "\n",
        "print('\\nSimple tests pass!')"
      ]
    },
    {
      "cell_type": "markdown",
      "metadata": {
        "id": "lRyLyXU2u29N"
      },
      "source": [
        "### Matrix operations 矩阵运算操作"
      ]
    },
    {
      "cell_type": "markdown",
      "metadata": {
        "id": "7DwjbapG6MM_"
      },
      "source": [
        "Note that unlike MATLAB, * is elementwise multiplication, not matrix multiplication. PyTorch provides a number of linear algebra functions that compute different types of vector and matrix products. The most commonly used are:\n",
        "\n",
        "- [`torch.dot`](https://pytorch.org/docs/1.1.0/torch.html#blas-and-lapack-operations): Computes inner product of vectors\n",
        "- [`torch.mm`](https://pytorch.org/docs/1.1.0/torch.html#torch.mm): Computes matrix-matrix products\n",
        "- [`torch.mv`](https://pytorch.org/docs/1.1.0/torch.html#torch.mv): Computes matrix-vector products\n",
        "- [`torch.addmm`](https://pytorch.org/docs/1.1.0/torch.html#torch.addmm) / [`torch.addmv`](https://pytorch.org/docs/1.1.0/torch.html#torch.addmv): Computes matrix-matrix and matrix-vector multiplications plus a bias\n",
        "- [`torch.bmm`](https://pytorch.org/docs/1.1.0/torch.html#torch.addmv) / [`torch.baddmm`](https://pytorch.org/docs/1.1.0/torch.html#torch.baddbmm): Batched versions of `torch.mm` and `torch.addmm`, respectively\n",
        "- [`torch.matmul`](https://pytorch.org/docs/1.1.0/torch.html#torch.matmul): General matrix product that performs different operations depending on the rank of the inputs; this is similar to `np.dot` in numpy.\n",
        "\n",
        "You can find a full list of the available linear algebra operators [in the documentation](https://pytorch.org/docs/1.1.0/torch.html#blas-and-lapack-operations).\n",
        "\n",
        "Here is an example of using `torch.dot` to compute inner products. Like the other mathematical operators we've seen, most linear algebra operators are available both as functions in the `torch` module and as instance methods of tensors:"
      ]
    },
    {
      "cell_type": "code",
      "execution_count": 41,
      "metadata": {
        "colab": {
          "base_uri": "https://localhost:8080/"
        },
        "id": "TRUYW2as6ZCh",
        "outputId": "9ba118a7-1b0a-4d21-b03a-d8ea90423504"
      },
      "outputs": [
        {
          "name": "stdout",
          "output_type": "stream",
          "text": [
            "Dot products:\n",
            "tensor(219.)\n",
            "tensor(219.)\n",
            "1D tensors expected, but got 2D and 2D tensors\n",
            "\n",
            "Matrix-matrix product:\n",
            "tensor([[19., 22.],\n",
            "        [43., 50.]])\n",
            "tensor([[19., 22.],\n",
            "        [43., 50.]])\n"
          ]
        }
      ],
      "source": [
        "v = torch.tensor([9,10], dtype=torch.float32)\n",
        "w = torch.tensor([11, 12], dtype=torch.float32)\n",
        "\n",
        "# Inner product of vectors\n",
        "print('Dot products:')\n",
        "print(torch.dot(v, w))\n",
        "print(v.dot(w))\n",
        "\n",
        "# dot only works for vectors -- it will give an error for tensors of rank > 1\n",
        "x = torch.tensor([[1,2],[3,4]], dtype=torch.float32)\n",
        "y = torch.tensor([[5,6],[7,8]], dtype=torch.float32)\n",
        "try:\n",
        "  print(x.dot(y))\n",
        "except RuntimeError as e:\n",
        "  print(e)\n",
        "\n",
        "# Instead we use mm for matrix-matrix products:\n",
        "print('\\nMatrix-matrix product:')\n",
        "print(torch.mm(x, y))\n",
        "print(x.mm(y))"
      ]
    },
    {
      "cell_type": "markdown",
      "metadata": {
        "id": "MQRxK34KdHm3"
      },
      "source": [
        "With all the different linear algebra operators that PyTorch provides, there is usually more than one way to compute something. For example to compute matrix-vector products we can use `torch.mv`; we can reshape the vector to have rank 2 and use `torch.mm`; or we can use `torch.matmul`. All give the same results, but the outputs might have different ranks:"
      ]
    },
    {
      "cell_type": "code",
      "execution_count": 42,
      "metadata": {
        "colab": {
          "base_uri": "https://localhost:8080/"
        },
        "id": "qqEzcnHkdRYA",
        "outputId": "f2a9c67e-96d9-47c9-9f11-229ffa784da5"
      },
      "outputs": [
        {
          "name": "stdout",
          "output_type": "stream",
          "text": [
            "Here is x (rank 2):\n",
            "tensor([[1., 2.],\n",
            "        [3., 4.]])\n",
            "\n",
            "Here is v (rank 1):\n",
            "tensor([ 9., 10.])\n",
            "\n",
            "Matrix-vector product with torch.mv (rank 1 output)\n",
            "tensor([29., 67.])\n",
            "tensor([29., 67.])\n",
            "\n",
            "Matrix-vector product with torch.mm (rank 2 output)\n",
            "tensor([[29.],\n",
            "        [67.]])\n",
            "tensor([[29.],\n",
            "        [67.]])\n",
            "\n",
            "Matrix-vector product with torch.matmul (rank 1 output)\n",
            "tensor([29., 67.])\n",
            "tensor([29., 67.])\n"
          ]
        }
      ],
      "source": [
        "print('Here is x (rank 2):')\n",
        "print(x)\n",
        "print('\\nHere is v (rank 1):')\n",
        "print(v)\n",
        "\n",
        "# Matrix-vector multiply with torch.mv produces a rank-1 output\n",
        "print('\\nMatrix-vector product with torch.mv (rank 1 output)')\n",
        "print(torch.mv(x, v))\n",
        "print(x.mv(v))\n",
        "\n",
        "# We can reshape the vector to have rank 2 and use torch.mm to perform\n",
        "# matrix-vector products, but the result will have rank 2\n",
        "print('\\nMatrix-vector product with torch.mm (rank 2 output)')\n",
        "print(torch.mm(x, v.view(2, 1)))\n",
        "print(x.mm(v.view(2, 1)))\n",
        "\n",
        "print('\\nMatrix-vector product with torch.matmul (rank 1 output)')\n",
        "print(torch.matmul(x, v))\n",
        "print(x.matmul(v))"
      ]
    },
    {
      "cell_type": "markdown",
      "metadata": {
        "id": "CuaIwV9w8zJW"
      },
      "source": [
        "mv、mm和matmul的区别：\n",
        "```python\n",
        "#基础运算：等价\n",
        "matrix = torch.tensor([[1, 2], [3, 4]], dtype=torch.float32)\n",
        "vec = torch.tensor([5, 6], dtype=torch.float32)\n",
        "\n",
        "# 等价操作\n",
        "mv_result = torch.mv(matrix, vec)        # tensor([17., 39.])\n",
        "matmul_result = torch.matmul(matrix, vec) # tensor([17., 39.])\n",
        "\n",
        "\n",
        "----------------------------------------------------------\n",
        "#批量矩阵乘向量运算\n",
        "batch_matrix = torch.randn(10, 3, 4)  # 10个3x4矩阵\n",
        "batch_vec = torch.randn(10, 4)        # 10个4维向量\n",
        "\n",
        "# 只能使用matmul\n",
        "batch_result = torch.matmul(batch_matrix, batch_vec)  # 形状 [10, 3]\n",
        "---------------------------------------------------------\n",
        "#自动广播成矩阵乘矩阵\n",
        "matrix = torch.randn(3, 4)\n",
        "vec = torch.randn(4, 1)  # 2D列向量\n",
        "\n",
        "# matmul自动广播为矩阵乘法\n",
        "matmul_result = torch.matmul(matrix, vec)  # 形状 [3, 1]\n",
        "\n",
        "# mv直接报错\n",
        "# torch.mv(matrix, vec)  # RuntimeError\n",
        "\n",
        "\n",
        "```"
      ]
    },
    {
      "cell_type": "markdown",
      "metadata": {
        "id": "-eqQJ5IUjtNT"
      },
      "source": [
        "Your turn: use [`torch.bmm`](https://pytorch.org/docs/1.1.0/torch.html#torch.bmm) to perform a batched matrix multiply.\n",
        "\n",
        "即批量矩阵乘矩阵\n",
        "\n",
        "\n"
      ]
    },
    {
      "cell_type": "code",
      "execution_count": 44,
      "metadata": {
        "colab": {
          "base_uri": "https://localhost:8080/"
        },
        "id": "jKLK85m4jyLe",
        "outputId": "bc0ca788-606d-4f6a-95e7-4bf4582b2e2a"
      },
      "outputs": [
        {
          "name": "stdout",
          "output_type": "stream",
          "text": [
            "Here is the result of batched matrix multiply with a loop:\n",
            "tensor([[[1.1332, 1.3992, 1.2446, 0.5631],\n",
            "         [1.0480, 1.3437, 1.1862, 0.5024]],\n",
            "\n",
            "        [[1.8072, 0.9905, 1.0399, 1.4644],\n",
            "         [1.5015, 0.5368, 1.2743, 1.4839]],\n",
            "\n",
            "        [[0.9517, 1.2985, 0.4803, 1.3174],\n",
            "         [0.9211, 0.9587, 0.5687, 0.8184]]])\n",
            "\n",
            "Here is the result of batched matrix multiply with bmm:\n",
            "tensor([[[1.1332, 1.3992, 1.2446, 0.5631],\n",
            "         [1.0480, 1.3437, 1.1862, 0.5024]],\n",
            "\n",
            "        [[1.8072, 0.9905, 1.0399, 1.4644],\n",
            "         [1.5015, 0.5368, 1.2743, 1.4839]],\n",
            "\n",
            "        [[0.9517, 1.2985, 0.4803, 1.3174],\n",
            "         [0.9211, 0.9587, 0.5687, 0.8184]]])\n",
            "\n",
            "Difference: 1.1920928955078125e-07\n",
            "Difference within threshold: True\n"
          ]
        }
      ],
      "source": [
        "B, N, M, P = 3, 2, 5, 4\n",
        "x = torch.rand(B, N, M)  # Random tensor of shape (B, N, M)\n",
        "y = torch.rand(B, M, P)  # Random tensor of shape (B, M, P)\n",
        "\n",
        "# We can use a for loop to (inefficiently) compute a batch of matrix multiply\n",
        "# operations\n",
        "z1 = torch.empty(B, N, P)  # Empty tensor of shape (B, N, P)\n",
        "for i in range(B):\n",
        "  z1[i] = x[i].mm(y[i])\n",
        "print('Here is the result of batched matrix multiply with a loop:')\n",
        "print(z1)\n",
        "\n",
        "z2 = None\n",
        "##############################################################################\n",
        "# TODO: Use bmm to compute a batched matrix multiply between x and y; store  #\n",
        "# the result in z2.                                                          #\n",
        "##############################################################################\n",
        "# Replace \"pass\" statement with your code\n",
        "z2=torch.bmm(x,y)\n",
        "##############################################################################\n",
        "#                             END OF YOUR CODE                               #\n",
        "##############################################################################\n",
        "print('\\nHere is the result of batched matrix multiply with bmm:')\n",
        "print(z2)\n",
        "\n",
        "# The two may not return exactly the same result; different linear algebra\n",
        "# routines often return slightly different results due to the fact that\n",
        "# floating-point math is non-exact and non-associative.\n",
        "diff = (z1 - z2).abs().max().item()\n",
        "print('\\nDifference:', diff)\n",
        "print('Difference within threshold:', diff < 1e-6)"
      ]
    },
    {
      "cell_type": "markdown",
      "metadata": {
        "id": "UISn2pcf9QjY"
      },
      "source": [
        "## Broadcasting"
      ]
    },
    {
      "cell_type": "markdown",
      "metadata": {
        "id": "fTj6f8VN9UZg"
      },
      "source": [
        "Broadcasting is a powerful mechanism that allows PyTorch to work with arrays of different shapes when performing arithmetic operations. Frequently we have a smaller tensor and a larger tensor, and we want to use the smaller tensor multiple times to perform some operation on the larger tensor.\n",
        "\n",
        "For example, suppose that we want to add a constant vector to each row of a tensor. We could do it like this:\n"
      ]
    },
    {
      "cell_type": "code",
      "execution_count": null,
      "metadata": {
        "id": "kF0Dhzlu9fef"
      },
      "outputs": [],
      "source": [
        "# We will add the vector v to each row of the matrix x,\n",
        "# storing the result in the matrix y\n",
        "x = torch.tensor([[1,2,3], [4,5,6], [7,8,9], [10, 11, 12]])\n",
        "v = torch.tensor([1, 0, 1])\n",
        "y = torch.zeros_like(x)   # Create an empty matrix with the same shape as x\n",
        "\n",
        "# Add the vector v to each row of the matrix x with an explicit loop\n",
        "for i in range(4):\n",
        "    y[i, :] = x[i, :] + v\n",
        "\n",
        "print(y)"
      ]
    },
    {
      "cell_type": "markdown",
      "metadata": {
        "id": "7gXpoBKE9vp7"
      },
      "source": [
        "This works; however when the tensor x is very large, computing an explicit loop in Python could be slow. Note that adding the vector v to each row of the tensor x is equivalent to forming a tensor vv by stacking multiple copies of v vertically, then performing elementwise summation of x and vv. We could implement this approach like this:\n"
      ]
    },
    {
      "cell_type": "code",
      "execution_count": null,
      "metadata": {
        "id": "_2_5cKeu94c2"
      },
      "outputs": [],
      "source": [
        "vv = v.repeat((4, 1))  # Stack 4 copies of v on top of each other\n",
        "print(vv)              # Prints \"[[1 0 1]\n",
        "                       #          [1 0 1]\n",
        "                       #          [1 0 1]\n",
        "                       #          [1 0 1]]\""
      ]
    },
    {
      "cell_type": "code",
      "execution_count": null,
      "metadata": {
        "id": "1KiRj23p-QIs"
      },
      "outputs": [],
      "source": [
        "y = x + vv  # Add x and vv elementwise\n",
        "print(y)"
      ]
    },
    {
      "cell_type": "markdown",
      "metadata": {
        "id": "A7NNlSsHBKib"
      },
      "source": [
        "PyTorch broadcasting allows us to perform this computation without actually creating multiple copies of v. Consider this version, using broadcasting:"
      ]
    },
    {
      "cell_type": "code",
      "execution_count": 45,
      "metadata": {
        "colab": {
          "base_uri": "https://localhost:8080/"
        },
        "id": "2jIiZc-ABBnt",
        "outputId": "4a71d9ec-e5e3-415b-d39c-232e9cbc7bcf"
      },
      "outputs": [
        {
          "name": "stdout",
          "output_type": "stream",
          "text": [
            "tensor([[ 2,  2,  4],\n",
            "        [ 5,  5,  7],\n",
            "        [ 8,  8, 10],\n",
            "        [11, 11, 13]])\n"
          ]
        }
      ],
      "source": [
        "# We will add the vector v to each row of the matrix x,\n",
        "# storing the result in the matrix y\n",
        "x = torch.tensor([[1,2,3], [4,5,6], [7,8,9], [10, 11, 12]])\n",
        "v = torch.tensor([1, 0, 1])\n",
        "y = x + v  # Add v to each row of x using broadcasting\n",
        "print(y)"
      ]
    },
    {
      "cell_type": "markdown",
      "metadata": {
        "id": "HuUBX8YnBSIG"
      },
      "source": [
        "The line y = x + v works even though x has shape (4, 3) and v has shape (3,) due to broadcasting; this line works as if v actually had shape (4, 3), where each row was a copy of v, and the sum was performed elementwise.\n",
        "\n",
        "Broadcasting two tensors together follows these rules:\n",
        "\n",
        "1.   If the tensors do not have the same rank, prepend the shape of the lower rank array with 1s until both shapes have the same length.\n",
        "2.   The two tensors are said to be *compatible* in a dimension if they have the same size in the dimension, or if one of the tensors has size 1 in that dimension.\n",
        "3.   The tensors can be broadcast together if they are compatible in all dimensions.\n",
        "4.   After broadcasting, each tensor behaves as if it had shape equal to the elementwise maximum of shapes of the two input tensors.\n",
        "5.   In any dimension where one tensor had size 1 and the other tensor had size greater than 1, the first tensor behaves as if it were copied along that dimension\n",
        "\n",
        "If this explanation does not make sense, try reading the explanation from the [documentation](https://pytorch.org/docs/stable/notes/broadcasting.html).\n",
        "\n",
        "Not all functions support broadcasting. You can find functions that does not support broadcasting from the official docs. (e.g. [`torch.mm`](https://pytorch.org/docs/stable/torch.html#torch.mm) does not support broadcasting, but [`torch.matmul`](https://pytorch.org/docs/1.1.0/torch.html#torch.matmul) does)\n",
        "\n",
        "Broadcasting can let us easily implement many different operations. For example we can compute an outer product of vectors:"
      ]
    },
    {
      "cell_type": "code",
      "execution_count": 46,
      "metadata": {
        "colab": {
          "base_uri": "https://localhost:8080/"
        },
        "id": "_W-k7-hpCwlT",
        "outputId": "ff345811-f8df-4e68-93c2-80f90bd44549"
      },
      "outputs": [
        {
          "name": "stdout",
          "output_type": "stream",
          "text": [
            "tensor([[ 4,  5],\n",
            "        [ 8, 10],\n",
            "        [12, 15]])\n"
          ]
        }
      ],
      "source": [
        "# Compute outer product of vectors\n",
        "v = torch.tensor([1, 2, 3])  # v has shape (3,)\n",
        "w = torch.tensor([4, 5])     # w has shape (2,)\n",
        "# To compute an outer product, we first reshape v to be a column\n",
        "# vector of shape (3, 1); we can then broadcast it against w to yield\n",
        "# an output of shape (3, 2), which is the outer product of v and w:\n",
        "print(v.view(3, 1) * w)"
      ]
    },
    {
      "cell_type": "markdown",
      "metadata": {
        "id": "6a9EcX20moP_"
      },
      "source": [
        "We can add a vector to each row of a matrix:"
      ]
    },
    {
      "cell_type": "code",
      "execution_count": 47,
      "metadata": {
        "colab": {
          "base_uri": "https://localhost:8080/"
        },
        "id": "9bhmBiwcDF1B",
        "outputId": "75d07fb4-71ba-48f4-b250-41d18e295037"
      },
      "outputs": [
        {
          "name": "stdout",
          "output_type": "stream",
          "text": [
            "Here is the matrix:\n",
            "tensor([[1, 2, 3],\n",
            "        [4, 5, 6]])\n",
            "\n",
            "Here is the vector:\n",
            "tensor([1, 2, 3])\n",
            "\n",
            "Add the vector to each row of the matrix:\n",
            "tensor([[2, 4, 6],\n",
            "        [5, 7, 9]])\n"
          ]
        }
      ],
      "source": [
        "x = torch.tensor([[1, 2, 3], [4, 5, 6]])  # x has shape (2, 3)\n",
        "v = torch.tensor([1, 2, 3])               # v has shape (3,)\n",
        "print('Here is the matrix:')\n",
        "print(x)\n",
        "print('\\nHere is the vector:')\n",
        "print(v)\n",
        "\n",
        "# x has shape (2, 3) and v has shape (3,) so they broadcast to (2, 3),\n",
        "# giving the following matrix:\n",
        "print('\\nAdd the vector to each row of the matrix:')\n",
        "print(x + v)"
      ]
    },
    {
      "cell_type": "markdown",
      "metadata": {
        "id": "jYloJIvmm_Me"
      },
      "source": [
        "We can add a vector to each column of a matrix:"
      ]
    },
    {
      "cell_type": "code",
      "execution_count": 48,
      "metadata": {
        "colab": {
          "base_uri": "https://localhost:8080/"
        },
        "id": "TDTFKACqDK22",
        "outputId": "1198ef27-9166-4b51-e7ee-aa7ffe707bbb"
      },
      "outputs": [
        {
          "name": "stdout",
          "output_type": "stream",
          "text": [
            "Here is the matrix:\n",
            "tensor([[1, 2, 3],\n",
            "        [4, 5, 6]])\n",
            "\n",
            "Here is the vector:\n",
            "tensor([4, 5])\n",
            "\n",
            "Add the vector to each column of the matrix:\n",
            "tensor([[ 5,  6,  7],\n",
            "        [ 9, 10, 11]])\n",
            "tensor([[ 5,  6,  7],\n",
            "        [ 9, 10, 11]])\n"
          ]
        }
      ],
      "source": [
        "x = torch.tensor([[1, 2, 3], [4, 5, 6]])  # x has shape (2, 3)\n",
        "w = torch.tensor([4, 5])                  # w has shape (2,)\n",
        "print('Here is the matrix:')\n",
        "print(x)\n",
        "print('\\nHere is the vector:')\n",
        "print(w)\n",
        "\n",
        "# x has shape (2, 3) and w has shape (2,). We reshape w to (2, 1);\n",
        "# then when we add the two the result broadcasts to (2, 3):\n",
        "print('\\nAdd the vector to each column of the matrix:')\n",
        "print(x + w.view(-1, 1))\n",
        "\n",
        "# Another solution is the following:\n",
        "# 1. Transpose x so it has shape (3, 2)\n",
        "# 2. Since w has shape (2,), adding will broadcast to (3, 2)\n",
        "# 3. Transpose the result, resulting in a shape (2, 3)\n",
        "print((x.t() + w).t())"
      ]
    },
    {
      "cell_type": "markdown",
      "metadata": {
        "id": "9717YmBBpBfr"
      },
      "source": [
        "Multiply a tensor by a set of constants:"
      ]
    },
    {
      "cell_type": "code",
      "execution_count": 49,
      "metadata": {
        "colab": {
          "base_uri": "https://localhost:8080/"
        },
        "id": "4UjWDp_XDc_-",
        "outputId": "40f3ed07-4dbd-4766-af60-9c810eaa9817"
      },
      "outputs": [
        {
          "name": "stdout",
          "output_type": "stream",
          "text": [
            "Here is the matrix:\n",
            "tensor([[1, 2, 3],\n",
            "        [4, 5, 6]])\n",
            "\n",
            "Here is the vector:\n",
            "tensor([  1,  10,  11, 100])\n",
            "\n",
            "Multiply x by a set of constants:\n",
            "tensor([[[  1,   2,   3],\n",
            "         [  4,   5,   6]],\n",
            "\n",
            "        [[ 10,  20,  30],\n",
            "         [ 40,  50,  60]],\n",
            "\n",
            "        [[ 11,  22,  33],\n",
            "         [ 44,  55,  66]],\n",
            "\n",
            "        [[100, 200, 300],\n",
            "         [400, 500, 600]]])\n"
          ]
        }
      ],
      "source": [
        "x = torch.tensor([[1, 2, 3], [4, 5, 6]])  # x has shape (2, 3)\n",
        "c = torch.tensor([1, 10, 11, 100])        # c has shape (4)\n",
        "print('Here is the matrix:')\n",
        "print(x)\n",
        "print('\\nHere is the vector:')\n",
        "print(c)\n",
        "\n",
        "# We do the following:\n",
        "# 1. Reshape c from (4,) to (4, 1, 1)\n",
        "# 2. x has shape (2, 3). Since they have different ranks, when we multiply the\n",
        "#    two, x behaves as if its shape were (1, 2, 3)\n",
        "# 3. The result of the broadcast multiplication between tensor of shape\n",
        "#    (4, 1, 1) and (1, 2, 3) has shape (4, 2, 3)\n",
        "# 4. The result y has shape (4, 2, 3), and y[i] (shape (2, 3)) is equal to\n",
        "#    c[i] * x\n",
        "y = c.view(-1, 1, 1) * x\n",
        "print('\\nMultiply x by a set of constants:')\n",
        "print(y)"
      ]
    },
    {
      "cell_type": "markdown",
      "metadata": {
        "id": "J2EHXFBFq1ea"
      },
      "source": [
        "Your turn: write a function that normalizes the columns of a matrix. It should compute the mean and standard deviation of each column, then subtract the mean and divide by the standard deviation for each element in the column.\n",
        "\n",
        "Example:\n",
        "```\n",
        "x = [[ 0,  30,  600],\n",
        "     [ 1,  10,  200],\n",
        "     [-1,  20,  400]]\n",
        "```\n",
        "- The first column has mean 0 and std 1\n",
        "- The second column has mean 20 and std 10\n",
        "- The third column has mean 400 and std 200\n",
        "\n",
        "After normalizing the columns, the result should be:\n",
        "```\n",
        "y = [[ 0,  1,  1],\n",
        "     [ 1, -1, -1],\n",
        "     [-1,  0,  0]]\n",
        "```"
      ]
    },
    {
      "cell_type": "code",
      "execution_count": 50,
      "metadata": {
        "colab": {
          "base_uri": "https://localhost:8080/"
        },
        "id": "HRAkY2tks1o_",
        "outputId": "dfcdd9ed-2de9-4fae-e838-6ff4fe3425f5"
      },
      "outputs": [
        {
          "name": "stdout",
          "output_type": "stream",
          "text": [
            "tensor([  0.,  20., 400.])\n",
            "tensor([  1.,  10., 200.])\n",
            "tensor([[ 0.,  1.,  1.],\n",
            "        [ 1., -1., -1.],\n",
            "        [-1.,  0.,  0.]])\n"
          ]
        }
      ],
      "source": [
        "def normalize_columns(x):\n",
        "  \"\"\"\n",
        "  Normalize the columns of a matrix by subtracting the mean and dividing by the\n",
        "  standard deviation.\n",
        "\n",
        "  Inputs:\n",
        "  - x: Tensor of shape (N, M)\n",
        "\n",
        "  Returns:\n",
        "  - y: Tensor of shape (N, M) which is a copy of x with normalized columns.\n",
        "  \"\"\"\n",
        "  y = x.clone()\n",
        "  ##############################################################################\n",
        "  # TODO: Complete the implementation of this function. Do not modify x.       #\n",
        "  # Your implementation should not use any loops; instead you should use       #\n",
        "  # reduction and broadcasting operations.                                     #\n",
        "  ##############################################################################\n",
        "  # Replace \"pass\" statement with your code\n",
        "  y_mean=y.mean(dim=0)\n",
        "  print(y_mean)  #(1,M)\n",
        "  y_std=y.std(dim=0)\n",
        "  print(y_std)\n",
        "\n",
        "  y=y-y_mean\n",
        "  y=y/y_std\n",
        "  ##############################################################################\n",
        "  #                             END OF YOUR CODE                               #\n",
        "  ##############################################################################\n",
        "  return y\n",
        "\n",
        "\n",
        "x0 = torch.tensor([[0., 30., 600.], [1., 10., 200.], [-1., 20., 400.]])\n",
        "y0 = normalize_columns(x0)\n",
        "print(y0)"
      ]
    },
    {
      "cell_type": "markdown",
      "metadata": {
        "id": "VHFR05ZXt4j5"
      },
      "source": [
        "Now test your implementation with a simple test:"
      ]
    },
    {
      "cell_type": "code",
      "execution_count": 51,
      "metadata": {
        "colab": {
          "base_uri": "https://localhost:8080/"
        },
        "id": "rVh1DMqMr3zl",
        "outputId": "14801e78-ca5e-47cc-fa23-a783c9ad1096"
      },
      "outputs": [
        {
          "name": "stdout",
          "output_type": "stream",
          "text": [
            "tensor([  0.,  20., 400.])\n",
            "tensor([  1.,  10., 200.])\n",
            "Here is x0:\n",
            "tensor([[  0.,  30., 600.],\n",
            "        [  1.,  10., 200.],\n",
            "        [ -1.,  20., 400.]])\n",
            "Here is y0:\n",
            "tensor([[ 0.,  1.,  1.],\n",
            "        [ 1., -1., -1.],\n",
            "        [-1.,  0.,  0.]])\n"
          ]
        }
      ],
      "source": [
        "x0 = torch.tensor([[0., 30., 600.], [1., 10., 200.], [-1., 20., 400.]])\n",
        "y0 = normalize_columns(x0)\n",
        "print('Here is x0:')\n",
        "print(x0)\n",
        "print('Here is y0:')\n",
        "print(y0)\n",
        "assert y0.tolist() == [[0., 1., 1.], [1., -1., -1.], [-1., 0., 0.]]\n",
        "assert x0.tolist() == [[0., 30., 600.], [1., 10., 200.], [-1., 20., 400.]]"
      ]
    },
    {
      "cell_type": "markdown",
      "metadata": {
        "id": "uN6FfqU9wFeG"
      },
      "source": [
        "## Running on GPU"
      ]
    },
    {
      "cell_type": "markdown",
      "metadata": {
        "id": "Ds6SDTbrwOc1"
      },
      "source": [
        "One of the most important features of PyTorch is that it can use graphics processing units (GPUs) to accelerate its tensor operations.\n",
        "\n",
        "We can easily check whether PyTorch is configured to use GPUs:\n",
        "\n",
        "Tensors can be moved onto any device using the .to method."
      ]
    },
    {
      "cell_type": "code",
      "execution_count": 1,
      "metadata": {
        "colab": {
          "base_uri": "https://localhost:8080/"
        },
        "id": "_RkoFEVVKWlW",
        "outputId": "fcf20362-3d1f-44c3-825d-6d35091d045f"
      },
      "outputs": [
        {
          "name": "stdout",
          "output_type": "stream",
          "text": [
            "PyTorch can use GPUs!\n"
          ]
        }
      ],
      "source": [
        "import torch\n",
        "\n",
        "if torch.cuda.is_available:\n",
        "  print('PyTorch can use GPUs!')\n",
        "else:\n",
        "  print('PyTorch cannot use GPUs.')"
      ]
    },
    {
      "cell_type": "markdown",
      "metadata": {
        "id": "7i_5n_XuKr5k"
      },
      "source": [
        "You can enable GPUs in Colab via Runtime -> Change Runtime Type -> Hardware Accelerator -> GPU.\n",
        "\n",
        "This may cause the Colab runtime to restart, so we will re-import torch in the next cell.\n",
        "\n",
        "We have already seen that PyTorch tensors have a `dtype` attribute specifying their datatype. All PyTorch tensors also have a `device` attribute that specifies the device where the tensor is stored -- either CPU, or CUDA (for NVIDA GPUs). A tensor on a CUDA device will automatically use that device to accelerate all of its operations.\n",
        "\n",
        "Just as with datatypes, we can use the [`.to()`](https://pytorch.org/docs/1.1.0/tensors.html#torch.Tensor.to) method to change the device of a tensor. We can also use the convenience methods `.cuda()` and `.cpu()` methods to move tensors between CPU and GPU."
      ]
    },
    {
      "cell_type": "code",
      "execution_count": 2,
      "metadata": {
        "colab": {
          "base_uri": "https://localhost:8080/"
        },
        "id": "D03s614dMCvy",
        "outputId": "6878e0a5-9930-4134-867e-ffe4b2a6f9e0"
      },
      "outputs": [
        {
          "name": "stdout",
          "output_type": "stream",
          "text": [
            "x0 device: cpu\n",
            "x1 device: cuda:0\n",
            "x2 device: cuda:0\n",
            "x3 device: cpu\n",
            "x4 device: cpu\n",
            "y device / dtype: cuda:0 torch.float64\n",
            "x5 device / dtype: cuda:0 torch.float64\n"
          ]
        }
      ],
      "source": [
        "# Construct a tensor on the CPU\n",
        "x0 = torch.tensor([[1, 2], [3, 4]], dtype=torch.float32)\n",
        "print('x0 device:', x0.device)\n",
        "\n",
        "# Move it to the GPU using .to()\n",
        "x1 = x0.to('cuda')\n",
        "print('x1 device:', x1.device)\n",
        "\n",
        "# Move it to the GPU using .cuda()\n",
        "x2 = x0.cuda()\n",
        "print('x2 device:', x2.device)\n",
        "\n",
        "# Move it back to the CPU using .to()\n",
        "x3 = x1.to('cpu')\n",
        "print('x3 device:', x3.device)\n",
        "\n",
        "# Move it back to the CPU using .cpu()\n",
        "x4 = x2.cpu()\n",
        "print('x4 device:', x4.device)\n",
        "\n",
        "# We can construct tensors directly on the GPU as well\n",
        "y = torch.tensor([[1, 2, 3], [4, 5, 6]], dtype=torch.float64, device='cuda')\n",
        "print('y device / dtype:', y.device, y.dtype)\n",
        "\n",
        "# Calling x.to(y) where y is a tensor will return a copy of x with the same\n",
        "# device and dtype as y\n",
        "x5 = x0.to(y)\n",
        "print('x5 device / dtype:', x5.device, x5.dtype)"
      ]
    },
    {
      "cell_type": "markdown",
      "metadata": {
        "id": "O-TDxICdOmJo"
      },
      "source": [
        "Performing large tensor operations on a GPU can be **a lot faster** than running the equivalent operation on CPU.\n",
        "\n",
        "Here we compare the speed of adding two tensors of shape (10000, 10000) on CPU and GPU:\n",
        "\n",
        "(Note that GPU code may run asynchronously with CPU code, so when timing the speed of operations on the GPU it is important to use `torch.cuda.synchronize` to synchronize the CPU and GPU.)"
      ]
    },
    {
      "cell_type": "code",
      "execution_count": 4,
      "metadata": {
        "colab": {
          "base_uri": "https://localhost:8080/"
        },
        "id": "GW14ZF-_PK7t",
        "outputId": "ec62bb61-13e5-49aa-801a-a5960a42bafb"
      },
      "outputs": [
        {
          "name": "stdout",
          "output_type": "stream",
          "text": [
            "Max difference between c_gpu and c_cpu: 0.0\n",
            "CPU time: 232.54 ms\n",
            "GPU time: 0.20 ms\n",
            "GPU speedup: 1136.74 x\n"
          ]
        }
      ],
      "source": [
        "import time\n",
        "\n",
        "a_cpu = torch.randn(10000, 10000, dtype=torch.float32)\n",
        "b_cpu = torch.randn(10000, 10000, dtype=torch.float32)\n",
        "\n",
        "a_gpu = a_cpu.cuda()\n",
        "b_gpu = b_cpu.cuda()\n",
        "torch.cuda.synchronize()\n",
        "\n",
        "t0 = time.time()\n",
        "c_cpu = a_cpu + b_cpu\n",
        "t1 = time.time()\n",
        "c_gpu = a_gpu + b_gpu\n",
        "torch.cuda.synchronize()\n",
        "t2 = time.time()\n",
        "\n",
        "# Check that they computed the same thing\n",
        "diff = (c_gpu.cpu() - c_cpu).abs().max().item()\n",
        "print('Max difference between c_gpu and c_cpu:', diff)\n",
        "\n",
        "cpu_time = 1000.0 * (t1 - t0)\n",
        "gpu_time = 1000.0 * (t2 - t1)\n",
        "print('CPU time: %.2f ms' % cpu_time)\n",
        "print('GPU time: %.2f ms' % gpu_time)\n",
        "print('GPU speedup: %.2f x' % (cpu_time / gpu_time))"
      ]
    },
    {
      "cell_type": "markdown",
      "metadata": {
        "id": "7HEAVPEwviYb"
      },
      "source": [
        "You should see that running the same computation on the GPU was more than 30 times faster than on the CPU! Due to the massive speedups that GPUs offer, we will use GPUs to accelerate much of our machine learning code starting in Assignment 2.\n",
        "\n",
        "Your turn: Use the GPU to accelerate the following matrix multiplication operation. You should see ~10x speedup by using the GPU."
      ]
    },
    {
      "cell_type": "code",
      "execution_count": 5,
      "metadata": {
        "colab": {
          "base_uri": "https://localhost:8080/"
        },
        "id": "uqEUdst7SAuZ",
        "outputId": "7c8baf86-d0da-4549-d7d5-b6ebdc1937cb"
      },
      "outputs": [
        {
          "name": "stdout",
          "output_type": "stream",
          "text": [
            "y1 on CPU: True\n",
            "Max difference between y0 and y1: 0.001220703125\n",
            "Difference within tolerance: True\n",
            "CPU time: 290.10 ms\n",
            "GPU time: 235.79 ms\n",
            "GPU speedup: 1.23 x\n"
          ]
        }
      ],
      "source": [
        "import time\n",
        "\n",
        "x = torch.rand(512, 4096)\n",
        "w = torch.rand(4096, 4096)\n",
        "\n",
        "t0 = time.time()\n",
        "y0 = x.mm(w)\n",
        "t1 = time.time()\n",
        "\n",
        "y1 = None\n",
        "##############################################################################\n",
        "# TODO: Write a bit of code that performs matrix multiplication of x and w   #\n",
        "# on the GPU, and then moves the result back to the CPU. Store the result    #\n",
        "# in y1.\n",
        "##############################################################################\n",
        "# Replace \"pass\" statement with your code\n",
        "x_gpu=x.cuda()\n",
        "w_gpu=w.cuda()\n",
        "torch.cuda.synchronize()\n",
        "y1=torch.matmul(x_gpu,w_gpu).cpu()\n",
        "##############################################################################\n",
        "#                             END OF YOUR CODE                               #\n",
        "##############################################################################\n",
        "torch.cuda.synchronize()\n",
        "t2 = time.time()\n",
        "\n",
        "print('y1 on CPU:', y1.device == torch.device('cpu'))\n",
        "diff = (y0 - y1).abs().max().item()\n",
        "print('Max difference between y0 and y1:', diff)\n",
        "print('Difference within tolerance:', diff < 5e-2)\n",
        "\n",
        "cpu_time = 1000.0 * (t1 - t0)\n",
        "gpu_time = 1000.0 * (t2 - t1)\n",
        "print('CPU time: %.2f ms' % cpu_time)\n",
        "print('GPU time: %.2f ms' % gpu_time)\n",
        "print('GPU speedup: %.2f x' % (cpu_time / gpu_time))"
      ]
    },
    {
      "cell_type": "code",
      "execution_count": 7,
      "metadata": {},
      "outputs": [
        {
          "name": "stdout",
          "output_type": "stream",
          "text": [
            "tensor([0, 1, 2, 3, 4, 5, 6, 7, 8, 9])\n",
            "tensor(285)\n"
          ]
        }
      ],
      "source": [
        "import torch\n",
        "\n",
        "mid=torch.arange(10)\n",
        "print(mid)\n",
        "res=mid.square().sum()\n",
        "\n",
        "print(res)"
      ]
    }
  ],
  "metadata": {
    "accelerator": "GPU",
    "colab": {
      "collapsed_sections": [
        "hQrEwOpXb9Gh",
        "zjosrOn8mOMV",
        "OgPaSNS2mVPn",
        "zeH5501nmh7W",
        "HrBSx6hYu8ca",
        "LWagwmXuvIle",
        "Yz_VDA3IvP33",
        "Rz_hiJD33fu1",
        "rlANfnILvX3S",
        "mo-PoTWNvbba",
        "4y93rPhGveWw",
        "oGt8ZPb_vixw",
        "Ad-xqELwyqpN",
        "Ql9_eXuU4OG8",
        "Z150qBob4Wkz",
        "f4SJCVbf-bZ0",
        "WJiiBxNE-X8g",
        "NgcdvD1evxTQ",
        "1BCVlPHZ4_Qz",
        "yDyH9USAuyZ-",
        "lRyLyXU2u29N",
        "UISn2pcf9QjY",
        "uN6FfqU9wFeG"
      ],
      "gpuType": "T4",
      "provenance": []
    },
    "kernelspec": {
      "display_name": "pytorch_GPU",
      "language": "python",
      "name": "python3"
    },
    "language_info": {
      "codemirror_mode": {
        "name": "ipython",
        "version": 3
      },
      "file_extension": ".py",
      "mimetype": "text/x-python",
      "name": "python",
      "nbconvert_exporter": "python",
      "pygments_lexer": "ipython3",
      "version": "3.12.11"
    }
  },
  "nbformat": 4,
  "nbformat_minor": 0
}
