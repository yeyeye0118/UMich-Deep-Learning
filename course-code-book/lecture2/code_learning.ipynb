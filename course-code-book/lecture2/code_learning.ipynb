{
 "cells": [
  {
   "cell_type": "markdown",
   "id": "a2a045e7",
   "metadata": {},
   "source": [
    "```python\n",
    "Xtr, Ytr, Xte, Yte = load_CIFAR10('data/cifar10/') # a magic function we provide\n",
    "# flatten out all images to be one-dimensional\n",
    "Xtr_rows = Xtr.reshape(Xtr.shape[0], 32 * 32 * 3) # Xtr_rows becomes 50000 x 3072\n",
    "Xte_rows = Xte.reshape(Xte.shape[0], 32 * 32 * 3) # Xte_rows becomes 10000 x 3072\n",
    "```\n",
    "Xtr.shape输出一元数组 第零个是50000"
   ]
  },
  {
   "cell_type": "code",
   "execution_count": 12,
   "id": "2dded0a3",
   "metadata": {},
   "outputs": [
    {
     "name": "stdout",
     "output_type": "stream",
     "text": [
      "(32, 32, 3)\n",
      "(5, 32, 32, 3)\n",
      "5\n",
      "[[0. 0. 0. ... 0. 0. 0.]\n",
      " [0. 0. 0. ... 0. 0. 0.]\n",
      " [0. 0. 0. ... 0. 0. 0.]\n",
      " [0. 0. 0. ... 0. 0. 0.]\n",
      " [0. 0. 0. ... 0. 0. 0.]]\n"
     ]
    }
   ],
   "source": [
    "import numpy as np\n",
    "\n",
    "c=5\n",
    "Xtr=np.zeros((c,32,32,3))\n",
    "print(Xtr[0].shape)\n",
    "print(Xtr.shape)\n",
    "print(Xtr.shape[0]) \n",
    "y=Xtr.reshape( c,32*32*3)\n",
    "print(y)"
   ]
  },
  {
   "cell_type": "markdown",
   "id": "036570b0",
   "metadata": {},
   "source": [
    "```python\n",
    "distances = np.sum(np.abs(self.Xtr - X[i,:]), axis = 1)\n",
    "```\n",
    "self.Xtr - X[i,:] 得到一个二维数组，每一行是一个训练样本与测试样本的差值。\n",
    "\n",
    "np.abs(...) 取绝对值。\n",
    "\n",
    "np.sum(..., axis=1) 表示对每一行的所有元素求和，得到每个训练样本与测试样本的距离（每行变成一个数）。"
   ]
  },
  {
   "cell_type": "code",
   "execution_count": 13,
   "id": "8bc6d5f8",
   "metadata": {},
   "outputs": [
    {
     "name": "stdout",
     "output_type": "stream",
     "text": [
      "10\n",
      "[4 6]\n",
      "[3 7]\n"
     ]
    }
   ],
   "source": [
    "\n",
    "x = np.array([[1,2],[3,4]])\n",
    "\n",
    "print(np.sum(x))  # Compute sum of all elements; prints \"10\"\n",
    "print(np.sum(x, axis=0))  # Compute sum of each column; prints \"[4 6]\"\n",
    "print(np.sum(x, axis=1))  # Compute sum of each row; prints \"[3 7]\""
   ]
  },
  {
   "cell_type": "markdown",
   "id": "82c1f7e3",
   "metadata": {},
   "source": [
    "```python\n",
    "print 'accuracy: %f' % ( np.mean(ans_Yte == Yte) )\n",
    "```"
   ]
  },
  {
   "cell_type": "code",
   "execution_count": 14,
   "id": "801c00ef",
   "metadata": {},
   "outputs": [
    {
     "name": "stdout",
     "output_type": "stream",
     "text": [
      "[[False False]\n",
      " [ True  True]\n",
      " [ True  True]]\n"
     ]
    }
   ],
   "source": [
    "import numpy as np\n",
    "\n",
    "a = np.array([[1,2], [3, 4], [5, 6]])\n",
    "\n",
    "bool_idx = (a > 2)  # Find the elements of a that are bigger than 2;\n",
    "                    # this returns a numpy array of Booleans of the same\n",
    "                    # shape as a, where each slot of bool_idx tells\n",
    "                    # whether that element of a is > 2.\n",
    "\n",
    "print(bool_idx)"
   ]
  }
 ],
 "metadata": {
  "kernelspec": {
   "display_name": "pytorch_GPU",
   "language": "python",
   "name": "python3"
  },
  "language_info": {
   "codemirror_mode": {
    "name": "ipython",
    "version": 3
   },
   "file_extension": ".py",
   "mimetype": "text/x-python",
   "name": "python",
   "nbconvert_exporter": "python",
   "pygments_lexer": "ipython3",
   "version": "3.12.11"
  }
 },
 "nbformat": 4,
 "nbformat_minor": 5
}
